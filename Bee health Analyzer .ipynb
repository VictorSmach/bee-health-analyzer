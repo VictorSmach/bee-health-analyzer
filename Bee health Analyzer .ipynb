{
 "cells": [
  {
   "cell_type": "markdown",
   "metadata": {
    "_uuid": "c8ed9988e11c17bf244d4a3ed2fd76702f1726f6"
   },
   "source": [
    "> **Objectives**<br>\n",
    "> \n",
    "> 1. Build a model that can predict the health of a bee hive by analyzing images of bees.\n",
    "> 2. Deploy the model as a prototype web based tool that bee keepers and researchers can use. They should be able to submit a picture of a bee and  instantly get an assessment of the health of the hive where the bee lives.\n",
    "\n",
    "This kernel will focus on:\n",
    "\n",
    "1. Creating a directory structure\n",
    "2. Creating generators\n",
    "3. Data augmentation\n",
    "4. Model building and training\n",
    "5. Assessing the quality of the model via a confusion matrix and F1 score.\n",
    "\n",
    "**Results**\n",
    "\n",
    "The model's validation accuracy and F1 score are greater than 0.9\n",
    "\n",
    "****\n",
    "\n",
    "All the html, css, and javascript code used to build the web app is available on Github.\n",
    "\n",
    "Web app:<br>\n",
    "http://bee.test.woza.work/<br>\n",
    "Github:<br>\n",
    "https://github.com/vbookshelf/Bee-Hive-Health-Analyzer\n"
   ]
  },
  {
   "cell_type": "code",
   "execution_count": 1,
   "metadata": {
    "_kg_hide-input": false,
    "_uuid": "371731306c3e504b191979706e826c247def88dc"
   },
   "outputs": [],
   "source": [
    "import numpy as np\n",
    "from numpy.random import seed\n",
    "\n",
    "set_random_seed = np.random.seed\n",
    "\n",
    "import pandas as pd\n",
    "\n",
    "#import keras\n",
    "\n",
    "import tensorflow\n",
    "from tensorflow.keras.layers import Dense, Dropout\n",
    "from tensorflow.keras.optimizers import Adam\n",
    "from tensorflow.keras.metrics import categorical_crossentropy\n",
    "from tensorflow.keras.preprocessing.image import ImageDataGenerator\n",
    "from tensorflow.keras.models import Model\n",
    "from tensorflow.keras.callbacks import EarlyStopping, ReduceLROnPlateau, ModelCheckpoint\n",
    "from tensorflow.keras.metrics import categorical_accuracy\n",
    "\n",
    "import os\n",
    "\n",
    "\n",
    "from sklearn.metrics import confusion_matrix\n",
    "from sklearn.model_selection import train_test_split\n",
    "from sklearn.utils import shuffle\n",
    "import itertools\n",
    "import shutil\n",
    "import matplotlib.pyplot as plt\n",
    "%matplotlib inline\n"
   ]
  },
  {
   "cell_type": "markdown",
   "metadata": {
    "_uuid": "79d5a2536c1728e28045684f6e6f4a4065218c9e"
   },
   "source": [
    "\n",
    "**A lesson learned...**\n",
    "\n",
    "In this kernel we are using tf.keras and not native Keras. tf.keras is Keras that lives within Tensorflow.\n",
    "\n",
    "When using native Keras I found that the accuracy as calculated manually from the confusion matrix does not match the accuracy obtained during training and evaluation. The problem was soved when I switched to tf.keras. I think there's a problem with predict_generator() in native Keras or maybe I'm using it wrong.\n",
    "\n",
    "Another complication is that a tf.keras model cannot be converted into a Tensorflowjs model for use in the app. To solve this problem I had to create another kernel using native Keras and convert that model to Tensorflowjs - a complicated story, I know :-)\n"
   ]
  },
  {
   "cell_type": "code",
   "execution_count": 2,
   "metadata": {
    "_uuid": "b015ceac61f52106049ab8dee7e10433c1633de8"
   },
   "outputs": [],
   "source": [
    "# To reduce the class imbalance in the train and validation set, the number of \n",
    "# rows in class 'healthy' will be reduced to this number:\n",
    "\n",
    "HEALTHY_SAMPLE_SIZE = 579\n",
    "\n",
    "# The approx. total number of images we want in each class after doing image augmentation.\n",
    "# We won't be doing image augmentation on the fly.\n",
    "NUM_IMAGES_WANTED = 3000 # incl. class 'healthy'\n",
    "\n",
    "# MobileNet needs input images with shape 224x224x3\n",
    "IMAGE_SIZE = 224\n",
    "IMAGE_CHANNELS = 3\n",
    "\n",
    "IMAGE_PATH = \"C://Users/user/Desktop/Vic/Bee-Hive-Health-Analyzer-master/honey-bee-annotated images/bee_imgs/bee_imgs\""
   ]
  },
  {
   "cell_type": "code",
   "execution_count": 3,
   "metadata": {
    "_uuid": "dac48f5259e7cb5d31283a662f8ab8e7c1641794"
   },
   "outputs": [
    {
     "data": {
      "text/plain": [
       "['001_043.png',\n",
       " '001_044.png',\n",
       " '001_046.png',\n",
       " '001_047.png',\n",
       " '001_050.png',\n",
       " '001_051.png',\n",
       " '001_054.png',\n",
       " '001_056.png',\n",
       " '001_078.png',\n",
       " '001_082.png',\n",
       " '001_083.png',\n",
       " '001_085.png',\n",
       " '001_091.png',\n",
       " '001_092.png',\n",
       " '001_093.png',\n",
       " '001_094.png',\n",
       " '001_095.png',\n",
       " '001_096.png',\n",
       " '001_097.png',\n",
       " '001_118.png',\n",
       " '001_120.png',\n",
       " '001_121.png',\n",
       " '001_122.png',\n",
       " '001_124.png',\n",
       " '001_126.png',\n",
       " '001_127.png',\n",
       " '001_131.png',\n",
       " '001_132.png',\n",
       " '001_133.png',\n",
       " '001_134.png',\n",
       " '001_135.png',\n",
       " '001_138.png',\n",
       " '001_140.png',\n",
       " '001_144.png',\n",
       " '001_145.png',\n",
       " '001_147.png',\n",
       " '001_149.png',\n",
       " '001_151.png',\n",
       " '001_152.png',\n",
       " '001_156.png',\n",
       " '001_159.png',\n",
       " '001_160.png',\n",
       " '001_163.png',\n",
       " '001_164.png',\n",
       " '001_167.png',\n",
       " '001_168.png',\n",
       " '001_169.png',\n",
       " '001_171.png',\n",
       " '001_172.png',\n",
       " '001_173.png',\n",
       " '002_022.png',\n",
       " '002_023.png',\n",
       " '002_024.png',\n",
       " '002_026.png',\n",
       " '002_030.png',\n",
       " '002_031.png',\n",
       " '002_033.png',\n",
       " '002_034.png',\n",
       " '002_035.png',\n",
       " '002_037.png',\n",
       " '002_044.png',\n",
       " '002_046.png',\n",
       " '002_051.png',\n",
       " '002_053.png',\n",
       " '002_054.png',\n",
       " '002_055.png',\n",
       " '002_072.png',\n",
       " '002_073.png',\n",
       " '002_078.png',\n",
       " '002_079.png',\n",
       " '002_080.png',\n",
       " '002_081.png',\n",
       " '002_082.png',\n",
       " '002_086.png',\n",
       " '002_087.png',\n",
       " '002_092.png',\n",
       " '002_094.png',\n",
       " '002_097.png',\n",
       " '002_099.png',\n",
       " '002_100.png',\n",
       " '002_101.png',\n",
       " '002_103.png',\n",
       " '002_104.png',\n",
       " '002_107.png',\n",
       " '002_108.png',\n",
       " '002_109.png',\n",
       " '002_110.png',\n",
       " '002_112.png',\n",
       " '002_114.png',\n",
       " '002_115.png',\n",
       " '002_123.png',\n",
       " '002_124.png',\n",
       " '003_009.png',\n",
       " '003_020.png',\n",
       " '003_021.png',\n",
       " '003_034.png',\n",
       " '003_035.png',\n",
       " '003_036.png',\n",
       " '003_037.png',\n",
       " '003_081.png',\n",
       " '003_094.png',\n",
       " '003_095.png',\n",
       " '003_109.png',\n",
       " '003_120.png',\n",
       " '003_121.png',\n",
       " '003_122.png',\n",
       " '003_123.png',\n",
       " '003_124.png',\n",
       " '003_130.png',\n",
       " '003_134.png',\n",
       " '003_135.png',\n",
       " '003_136.png',\n",
       " '003_137.png',\n",
       " '003_141.png',\n",
       " '003_143.png',\n",
       " '003_144.png',\n",
       " '003_145.png',\n",
       " '003_146.png',\n",
       " '003_147.png',\n",
       " '003_151.png',\n",
       " '003_152.png',\n",
       " '003_153.png',\n",
       " '003_154.png',\n",
       " '003_155.png',\n",
       " '003_156.png',\n",
       " '003_157.png',\n",
       " '003_169.png',\n",
       " '003_178.png',\n",
       " '003_179.png',\n",
       " '003_180.png',\n",
       " '003_181.png',\n",
       " '003_182.png',\n",
       " '003_183.png',\n",
       " '003_184.png',\n",
       " '003_185.png',\n",
       " '003_186.png',\n",
       " '003_187.png',\n",
       " '003_190.png',\n",
       " '003_191.png',\n",
       " '003_192.png',\n",
       " '003_193.png',\n",
       " '003_194.png',\n",
       " '003_195.png',\n",
       " '003_196.png',\n",
       " '003_197.png',\n",
       " '003_208.png',\n",
       " '003_209.png',\n",
       " '003_218.png',\n",
       " '003_220.png',\n",
       " '003_221.png',\n",
       " '003_222.png',\n",
       " '003_223.png',\n",
       " '003_225.png',\n",
       " '003_227.png',\n",
       " '003_230.png',\n",
       " '003_231.png',\n",
       " '003_232.png',\n",
       " '003_233.png',\n",
       " '003_234.png',\n",
       " '003_235.png',\n",
       " '003_236.png',\n",
       " '003_237.png',\n",
       " '003_240.png',\n",
       " '003_241.png',\n",
       " '003_242.png',\n",
       " '003_243.png',\n",
       " '003_244.png',\n",
       " '003_245.png',\n",
       " '003_246.png',\n",
       " '003_247.png',\n",
       " '003_248.png',\n",
       " '003_249.png',\n",
       " '003_250.png',\n",
       " '003_251.png',\n",
       " '003_252.png',\n",
       " '003_253.png',\n",
       " '003_254.png',\n",
       " '003_255.png',\n",
       " '003_256.png',\n",
       " '003_257.png',\n",
       " '003_258.png',\n",
       " '003_259.png',\n",
       " '003_260.png',\n",
       " '003_261.png',\n",
       " '003_262.png',\n",
       " '003_263.png',\n",
       " '003_264.png',\n",
       " '003_265.png',\n",
       " '003_266.png',\n",
       " '003_267.png',\n",
       " '003_268.png',\n",
       " '003_269.png',\n",
       " '003_270.png',\n",
       " '003_271.png',\n",
       " '003_272.png',\n",
       " '003_273.png',\n",
       " '003_274.png',\n",
       " '003_275.png',\n",
       " '003_276.png',\n",
       " '003_277.png',\n",
       " '003_278.png',\n",
       " '003_279.png',\n",
       " '003_280.png',\n",
       " '003_281.png',\n",
       " '003_282.png',\n",
       " '003_283.png',\n",
       " '004_048.png',\n",
       " '004_049.png',\n",
       " '004_060.png',\n",
       " '004_061.png',\n",
       " '004_063.png',\n",
       " '004_067.png',\n",
       " '004_072.png',\n",
       " '004_073.png',\n",
       " '004_074.png',\n",
       " '004_075.png',\n",
       " '004_076.png',\n",
       " '004_077.png',\n",
       " '004_088.png',\n",
       " '004_089.png',\n",
       " '004_098.png',\n",
       " '004_099.png',\n",
       " '004_100.png',\n",
       " '004_101.png',\n",
       " '004_102.png',\n",
       " '004_103.png',\n",
       " '004_104.png',\n",
       " '004_106.png',\n",
       " '004_107.png',\n",
       " '004_110.png',\n",
       " '004_111.png',\n",
       " '004_112.png',\n",
       " '004_113.png',\n",
       " '004_114.png',\n",
       " '004_115.png',\n",
       " '004_116.png',\n",
       " '004_117.png',\n",
       " '004_128.png',\n",
       " '004_129.png',\n",
       " '004_138.png',\n",
       " '004_139.png',\n",
       " '004_160.png',\n",
       " '004_161.png',\n",
       " '004_162.png',\n",
       " '004_163.png',\n",
       " '004_164.png',\n",
       " '004_170.png',\n",
       " '004_174.png',\n",
       " '004_175.png',\n",
       " '004_176.png',\n",
       " '004_177.png',\n",
       " '004_188.png',\n",
       " '004_189.png',\n",
       " '004_198.png',\n",
       " '004_200.png',\n",
       " '004_201.png',\n",
       " '004_202.png',\n",
       " '004_203.png',\n",
       " '004_205.png',\n",
       " '004_206.png',\n",
       " '004_207.png',\n",
       " '004_211.png',\n",
       " '004_212.png',\n",
       " '004_213.png',\n",
       " '004_214.png',\n",
       " '004_215.png',\n",
       " '004_216.png',\n",
       " '004_217.png',\n",
       " '004_228.png',\n",
       " '004_229.png',\n",
       " '004_235.png',\n",
       " '004_238.png',\n",
       " '004_239.png',\n",
       " '004_249.png',\n",
       " '004_258.png',\n",
       " '004_259.png',\n",
       " '004_260.png',\n",
       " '004_261.png',\n",
       " '004_262.png',\n",
       " '004_263.png',\n",
       " '004_264.png',\n",
       " '004_265.png',\n",
       " '004_266.png',\n",
       " '004_267.png',\n",
       " '004_270.png',\n",
       " '004_272.png',\n",
       " '004_273.png',\n",
       " '004_274.png',\n",
       " '004_275.png',\n",
       " '004_276.png',\n",
       " '004_277.png',\n",
       " '004_288.png',\n",
       " '004_289.png',\n",
       " '004_298.png',\n",
       " '004_299.png',\n",
       " '004_300.png',\n",
       " '004_301.png',\n",
       " '004_302.png',\n",
       " '004_303.png',\n",
       " '004_304.png',\n",
       " '004_305.png',\n",
       " '004_306.png',\n",
       " '004_307.png',\n",
       " '004_310.png',\n",
       " '004_311.png',\n",
       " '004_312.png',\n",
       " '004_313.png',\n",
       " '004_314.png',\n",
       " '004_315.png',\n",
       " '004_316.png',\n",
       " '004_317.png',\n",
       " '004_328.png',\n",
       " '004_329.png',\n",
       " '004_338.png',\n",
       " '004_339.png',\n",
       " '004_340.png',\n",
       " '004_341.png',\n",
       " '004_342.png',\n",
       " '004_343.png',\n",
       " '004_344.png',\n",
       " '004_345.png',\n",
       " '004_346.png',\n",
       " '004_347.png',\n",
       " '004_348.png',\n",
       " '004_349.png',\n",
       " '004_350.png',\n",
       " '004_351.png',\n",
       " '004_352.png',\n",
       " '004_353.png',\n",
       " '004_354.png',\n",
       " '004_355.png',\n",
       " '004_356.png',\n",
       " '004_357.png',\n",
       " '004_358.png',\n",
       " '004_359.png',\n",
       " '004_360.png',\n",
       " '004_361.png',\n",
       " '004_362.png',\n",
       " '004_363.png',\n",
       " '004_364.png',\n",
       " '004_365.png',\n",
       " '004_366.png',\n",
       " '004_367.png',\n",
       " '004_368.png',\n",
       " '004_369.png',\n",
       " '004_370.png',\n",
       " '004_371.png',\n",
       " '004_372.png',\n",
       " '004_373.png',\n",
       " '004_374.png',\n",
       " '004_375.png',\n",
       " '004_376.png',\n",
       " '004_377.png',\n",
       " '004_378.png',\n",
       " '004_379.png',\n",
       " '004_380.png',\n",
       " '004_381.png',\n",
       " '004_382.png',\n",
       " '004_383.png',\n",
       " '004_384.png',\n",
       " '004_385.png',\n",
       " '004_386.png',\n",
       " '004_387.png',\n",
       " '004_388.png',\n",
       " '004_389.png',\n",
       " '004_390.png',\n",
       " '004_391.png',\n",
       " '004_392.png',\n",
       " '004_393.png',\n",
       " '004_394.png',\n",
       " '004_395.png',\n",
       " '004_396.png',\n",
       " '004_397.png',\n",
       " '004_398.png',\n",
       " '004_399.png',\n",
       " '004_400.png',\n",
       " '004_401.png',\n",
       " '004_402.png',\n",
       " '004_403.png',\n",
       " '004_404.png',\n",
       " '004_406.png',\n",
       " '004_407.png',\n",
       " '004_408.png',\n",
       " '004_409.png',\n",
       " '004_410.png',\n",
       " '004_411.png',\n",
       " '004_412.png',\n",
       " '004_413.png',\n",
       " '004_414.png',\n",
       " '004_415.png',\n",
       " '004_416.png',\n",
       " '004_417.png',\n",
       " '004_418.png',\n",
       " '004_419.png',\n",
       " '004_420.png',\n",
       " '004_421.png',\n",
       " '004_422.png',\n",
       " '004_423.png',\n",
       " '004_424.png',\n",
       " '004_425.png',\n",
       " '004_426.png',\n",
       " '004_427.png',\n",
       " '004_428.png',\n",
       " '004_429.png',\n",
       " '004_430.png',\n",
       " '004_431.png',\n",
       " '004_432.png',\n",
       " '004_433.png',\n",
       " '004_435.png',\n",
       " '004_436.png',\n",
       " '004_437.png',\n",
       " '004_438.png',\n",
       " '004_439.png',\n",
       " '004_442.png',\n",
       " '004_444.png',\n",
       " '004_445.png',\n",
       " '004_446.png',\n",
       " '004_447.png',\n",
       " '004_448.png',\n",
       " '004_449.png',\n",
       " '004_450.png',\n",
       " '004_451.png',\n",
       " '004_452.png',\n",
       " '004_453.png',\n",
       " '004_456.png',\n",
       " '004_457.png',\n",
       " '004_458.png',\n",
       " '004_459.png',\n",
       " '004_460.png',\n",
       " '004_461.png',\n",
       " '004_462.png',\n",
       " '004_463.png',\n",
       " '004_464.png',\n",
       " '004_465.png',\n",
       " '004_466.png',\n",
       " '004_467.png',\n",
       " '004_469.png',\n",
       " '004_470.png',\n",
       " '004_471.png',\n",
       " '004_472.png',\n",
       " '004_473.png',\n",
       " '004_474.png',\n",
       " '004_475.png',\n",
       " '004_476.png',\n",
       " '004_477.png',\n",
       " '004_478.png',\n",
       " '004_479.png',\n",
       " '004_480.png',\n",
       " '004_481.png',\n",
       " '004_482.png',\n",
       " '004_484.png',\n",
       " '004_485.png',\n",
       " '004_486.png',\n",
       " '004_487.png',\n",
       " '005_058.png',\n",
       " '005_059.png',\n",
       " '005_064.png',\n",
       " '005_065.png',\n",
       " '005_066.png',\n",
       " '005_067.png',\n",
       " '005_070.png',\n",
       " '005_071.png',\n",
       " '005_072.png',\n",
       " '005_073.png',\n",
       " '005_076.png',\n",
       " '005_089.png',\n",
       " '005_098.png',\n",
       " '005_099.png',\n",
       " '005_102.png',\n",
       " '005_103.png',\n",
       " '005_104.png',\n",
       " '005_105.png',\n",
       " '005_106.png',\n",
       " '005_107.png',\n",
       " '005_110.png',\n",
       " '005_111.png',\n",
       " '005_112.png',\n",
       " '005_113.png',\n",
       " '005_115.png',\n",
       " '005_116.png',\n",
       " '005_117.png',\n",
       " '005_128.png',\n",
       " '005_129.png',\n",
       " '005_138.png',\n",
       " '005_139.png',\n",
       " '005_166.png',\n",
       " '005_167.png',\n",
       " '005_173.png',\n",
       " '005_198.png',\n",
       " '005_199.png',\n",
       " '005_204.png',\n",
       " '005_205.png',\n",
       " '005_206.png',\n",
       " '005_207.png',\n",
       " '005_210.png',\n",
       " '005_211.png',\n",
       " '005_212.png',\n",
       " '005_213.png',\n",
       " '005_238.png',\n",
       " '005_239.png',\n",
       " '005_248.png',\n",
       " '005_249.png',\n",
       " '005_258.png',\n",
       " '005_259.png',\n",
       " '005_260.png',\n",
       " '005_261.png',\n",
       " '005_262.png',\n",
       " '005_263.png',\n",
       " '005_264.png',\n",
       " '005_265.png',\n",
       " '005_266.png',\n",
       " '005_270.png',\n",
       " '005_271.png',\n",
       " '005_272.png',\n",
       " '005_273.png',\n",
       " '005_274.png',\n",
       " '005_275.png',\n",
       " '005_276.png',\n",
       " '005_277.png',\n",
       " '005_288.png',\n",
       " '005_289.png',\n",
       " '005_298.png',\n",
       " '005_299.png',\n",
       " '005_300.png',\n",
       " '005_301.png',\n",
       " '005_302.png',\n",
       " '005_303.png',\n",
       " '005_304.png',\n",
       " '005_305.png',\n",
       " '005_306.png',\n",
       " '005_307.png',\n",
       " '005_310.png',\n",
       " '005_311.png',\n",
       " '005_312.png',\n",
       " '005_313.png',\n",
       " '005_314.png',\n",
       " '005_315.png',\n",
       " '005_316.png',\n",
       " '005_317.png',\n",
       " '005_328.png',\n",
       " '005_329.png',\n",
       " '005_338.png',\n",
       " '005_339.png',\n",
       " '005_345.png',\n",
       " '005_347.png',\n",
       " '005_348.png',\n",
       " '005_350.png',\n",
       " '005_351.png',\n",
       " '005_353.png',\n",
       " '005_358.png',\n",
       " '005_360.png',\n",
       " '005_361.png',\n",
       " '005_362.png',\n",
       " '005_363.png',\n",
       " '005_364.png',\n",
       " '005_365.png',\n",
       " '005_366.png',\n",
       " '005_367.png',\n",
       " '005_370.png',\n",
       " '005_371.png',\n",
       " '005_372.png',\n",
       " '005_373.png',\n",
       " '005_374.png',\n",
       " '005_375.png',\n",
       " '005_376.png',\n",
       " '005_377.png',\n",
       " '005_378.png',\n",
       " '005_379.png',\n",
       " '005_381.png',\n",
       " '005_384.png',\n",
       " '005_385.png',\n",
       " '005_386.png',\n",
       " '005_387.png',\n",
       " '005_388.png',\n",
       " '005_389.png',\n",
       " '005_390.png',\n",
       " '005_391.png',\n",
       " '005_392.png',\n",
       " '005_393.png',\n",
       " '005_395.png',\n",
       " '005_398.png',\n",
       " '005_399.png',\n",
       " '005_400.png',\n",
       " '005_401.png',\n",
       " '005_402.png',\n",
       " '005_403.png',\n",
       " '005_404.png',\n",
       " '005_406.png',\n",
       " '005_407.png',\n",
       " '005_408.png',\n",
       " '005_409.png',\n",
       " '005_410.png',\n",
       " '005_411.png',\n",
       " '005_412.png',\n",
       " '005_413.png',\n",
       " '005_414.png',\n",
       " '005_415.png',\n",
       " '005_416.png',\n",
       " '005_417.png',\n",
       " '005_418.png',\n",
       " '005_419.png',\n",
       " '005_420.png',\n",
       " '005_421.png',\n",
       " '005_422.png',\n",
       " '005_423.png',\n",
       " '005_424.png',\n",
       " '005_425.png',\n",
       " '005_427.png',\n",
       " '005_428.png',\n",
       " '005_429.png',\n",
       " '005_430.png',\n",
       " '005_431.png',\n",
       " '005_433.png',\n",
       " '005_434.png',\n",
       " '005_435.png',\n",
       " '005_436.png',\n",
       " '005_437.png',\n",
       " '005_438.png',\n",
       " '005_439.png',\n",
       " '005_448.png',\n",
       " '005_449.png',\n",
       " '005_458.png',\n",
       " '005_459.png',\n",
       " '005_460.png',\n",
       " '005_461.png',\n",
       " '005_462.png',\n",
       " '005_463.png',\n",
       " '005_464.png',\n",
       " '005_465.png',\n",
       " '005_466.png',\n",
       " '005_467.png',\n",
       " '005_469.png',\n",
       " '005_470.png',\n",
       " '005_471.png',\n",
       " '005_472.png',\n",
       " '005_473.png',\n",
       " '005_475.png',\n",
       " '005_476.png',\n",
       " '005_477.png',\n",
       " '005_482.png',\n",
       " '005_488.png',\n",
       " '005_489.png',\n",
       " '005_496.png',\n",
       " '005_498.png',\n",
       " '005_499.png',\n",
       " '005_500.png',\n",
       " '005_501.png',\n",
       " '005_502.png',\n",
       " '005_503.png',\n",
       " '005_504.png',\n",
       " '005_505.png',\n",
       " '005_506.png',\n",
       " '005_507.png',\n",
       " '005_508.png',\n",
       " '005_509.png',\n",
       " '005_510.png',\n",
       " '005_512.png',\n",
       " '005_513.png',\n",
       " '005_514.png',\n",
       " '005_515.png',\n",
       " '005_516.png',\n",
       " '005_517.png',\n",
       " '005_520.png',\n",
       " '005_521.png',\n",
       " '005_528.png',\n",
       " '005_529.png',\n",
       " '005_534.png',\n",
       " '005_535.png',\n",
       " '005_536.png',\n",
       " '005_537.png',\n",
       " '005_538.png',\n",
       " '005_539.png',\n",
       " '005_540.png',\n",
       " '005_541.png',\n",
       " '005_542.png',\n",
       " '005_543.png',\n",
       " '005_544.png',\n",
       " '005_545.png',\n",
       " '005_546.png',\n",
       " '005_547.png',\n",
       " '005_548.png',\n",
       " '005_550.png',\n",
       " '005_551.png',\n",
       " '005_552.png',\n",
       " '005_553.png',\n",
       " '005_554.png',\n",
       " '005_555.png',\n",
       " '005_556.png',\n",
       " '005_557.png',\n",
       " '005_558.png',\n",
       " '005_559.png',\n",
       " '005_560.png',\n",
       " '005_561.png',\n",
       " '005_562.png',\n",
       " '005_563.png',\n",
       " '005_565.png',\n",
       " '005_567.png',\n",
       " '005_568.png',\n",
       " '005_569.png',\n",
       " '005_570.png',\n",
       " '005_571.png',\n",
       " '005_572.png',\n",
       " '005_573.png',\n",
       " '005_574.png',\n",
       " '005_575.png',\n",
       " '005_576.png',\n",
       " '005_577.png',\n",
       " '005_578.png',\n",
       " '005_579.png',\n",
       " '005_582.png',\n",
       " '005_583.png',\n",
       " '005_584.png',\n",
       " '005_585.png',\n",
       " '005_586.png',\n",
       " '005_587.png',\n",
       " '005_588.png',\n",
       " '005_589.png',\n",
       " '005_590.png',\n",
       " '005_591.png',\n",
       " '005_592.png',\n",
       " '005_593.png',\n",
       " '005_594.png',\n",
       " '005_595.png',\n",
       " '005_596.png',\n",
       " '005_597.png',\n",
       " '005_598.png',\n",
       " '005_599.png',\n",
       " '005_600.png',\n",
       " '005_601.png',\n",
       " '005_602.png',\n",
       " '005_603.png',\n",
       " '005_604.png',\n",
       " '005_605.png',\n",
       " '005_607.png',\n",
       " '005_608.png',\n",
       " '005_609.png',\n",
       " '005_610.png',\n",
       " '005_611.png',\n",
       " '005_612.png',\n",
       " '005_613.png',\n",
       " '005_614.png',\n",
       " '005_615.png',\n",
       " '005_616.png',\n",
       " '005_617.png',\n",
       " '005_618.png',\n",
       " '005_619.png',\n",
       " '005_620.png',\n",
       " '005_621.png',\n",
       " '005_622.png',\n",
       " '005_623.png',\n",
       " '005_624.png',\n",
       " '005_625.png',\n",
       " '005_626.png',\n",
       " '005_627.png',\n",
       " '005_628.png',\n",
       " '005_629.png',\n",
       " '005_630.png',\n",
       " '006_004.png',\n",
       " '006_005.png',\n",
       " '006_006.png',\n",
       " '007_028.png',\n",
       " '007_061.png',\n",
       " '007_062.png',\n",
       " '007_100.png',\n",
       " '007_105.png',\n",
       " '007_113.png',\n",
       " '007_114.png',\n",
       " '007_116.png',\n",
       " '007_125.png',\n",
       " '007_159.png',\n",
       " '007_160.png',\n",
       " '007_161.png',\n",
       " '007_163.png',\n",
       " '007_174.png',\n",
       " '007_187.png',\n",
       " '008_044.png',\n",
       " '008_045.png',\n",
       " '008_046.png',\n",
       " '008_047.png',\n",
       " '008_050.png',\n",
       " '008_051.png',\n",
       " '008_052.png',\n",
       " '008_053.png',\n",
       " '008_068.png',\n",
       " '008_069.png',\n",
       " '008_078.png',\n",
       " '008_079.png',\n",
       " '008_081.png',\n",
       " '008_082.png',\n",
       " '008_083.png',\n",
       " '008_084.png',\n",
       " '008_085.png',\n",
       " '008_086.png',\n",
       " '008_087.png',\n",
       " '008_090.png',\n",
       " '008_091.png',\n",
       " '008_092.png',\n",
       " '008_093.png',\n",
       " '008_094.png',\n",
       " '008_095.png',\n",
       " '008_096.png',\n",
       " '008_097.png',\n",
       " '008_108.png',\n",
       " '008_109.png',\n",
       " '008_118.png',\n",
       " '008_119.png',\n",
       " '008_120.png',\n",
       " '008_121.png',\n",
       " '008_122.png',\n",
       " '008_123.png',\n",
       " '008_124.png',\n",
       " '008_125.png',\n",
       " '008_126.png',\n",
       " '008_127.png',\n",
       " '008_130.png',\n",
       " '008_131.png',\n",
       " '008_132.png',\n",
       " '008_133.png',\n",
       " '008_134.png',\n",
       " '008_135.png',\n",
       " '008_136.png',\n",
       " '008_137.png',\n",
       " '008_142.png',\n",
       " '008_144.png',\n",
       " '008_145.png',\n",
       " '008_146.png',\n",
       " '008_147.png',\n",
       " '008_150.png',\n",
       " '008_151.png',\n",
       " '008_152.png',\n",
       " '008_153.png',\n",
       " '008_155.png',\n",
       " '008_156.png',\n",
       " '008_157.png',\n",
       " '008_168.png',\n",
       " '008_169.png',\n",
       " '008_171.png',\n",
       " '008_178.png',\n",
       " '008_179.png',\n",
       " '008_180.png',\n",
       " '008_181.png',\n",
       " '008_182.png',\n",
       " '008_183.png',\n",
       " '008_184.png',\n",
       " '008_185.png',\n",
       " '008_186.png',\n",
       " '008_187.png',\n",
       " '008_190.png',\n",
       " '008_191.png',\n",
       " '008_192.png',\n",
       " '008_193.png',\n",
       " '008_194.png',\n",
       " '008_195.png',\n",
       " '008_196.png',\n",
       " '008_197.png',\n",
       " '008_199.png',\n",
       " '008_204.png',\n",
       " '008_205.png',\n",
       " '008_206.png',\n",
       " '008_207.png',\n",
       " '008_208.png',\n",
       " '008_209.png',\n",
       " '008_210.png',\n",
       " '008_211.png',\n",
       " '008_212.png',\n",
       " '008_213.png',\n",
       " '008_214.png',\n",
       " '008_215.png',\n",
       " '008_218.png',\n",
       " '008_219.png',\n",
       " '008_220.png',\n",
       " '008_221.png',\n",
       " '008_222.png',\n",
       " '008_223.png',\n",
       " '008_224.png',\n",
       " '008_225.png',\n",
       " '008_226.png',\n",
       " '008_228.png',\n",
       " '008_229.png',\n",
       " '008_230.png',\n",
       " '008_231.png',\n",
       " '008_232.png',\n",
       " '008_233.png',\n",
       " '008_234.png',\n",
       " '008_235.png',\n",
       " '008_236.png',\n",
       " '008_237.png',\n",
       " '008_238.png',\n",
       " '008_239.png',\n",
       " '008_240.png',\n",
       " '008_241.png',\n",
       " '008_242.png',\n",
       " '008_243.png',\n",
       " '008_244.png',\n",
       " '008_245.png',\n",
       " '008_246.png',\n",
       " '008_247.png',\n",
       " '008_250.png',\n",
       " '008_251.png',\n",
       " '008_252.png',\n",
       " '008_253.png',\n",
       " '008_254.png',\n",
       " '008_255.png',\n",
       " '008_256.png',\n",
       " '008_257.png',\n",
       " '008_258.png',\n",
       " '008_259.png',\n",
       " '008_264.png',\n",
       " '008_265.png',\n",
       " '008_266.png',\n",
       " '008_267.png',\n",
       " '008_268.png',\n",
       " '008_269.png',\n",
       " '008_270.png',\n",
       " '008_271.png',\n",
       " '008_272.png',\n",
       " '008_273.png',\n",
       " '008_276.png',\n",
       " '008_277.png',\n",
       " '008_278.png',\n",
       " '008_279.png',\n",
       " '008_280.png',\n",
       " '008_281.png',\n",
       " '008_282.png',\n",
       " '008_283.png',\n",
       " '008_284.png',\n",
       " '008_285.png',\n",
       " '008_286.png',\n",
       " '008_287.png',\n",
       " '008_288.png',\n",
       " '008_289.png',\n",
       " '008_290.png',\n",
       " '008_291.png',\n",
       " '008_292.png',\n",
       " '008_293.png',\n",
       " '008_294.png',\n",
       " '008_295.png',\n",
       " '008_296.png',\n",
       " '008_297.png',\n",
       " '008_298.png',\n",
       " '008_299.png',\n",
       " '008_301.png',\n",
       " '008_302.png',\n",
       " '008_303.png',\n",
       " '008_304.png',\n",
       " '009_040.png',\n",
       " '009_041.png',\n",
       " '009_042.png',\n",
       " '009_043.png',\n",
       " '009_044.png',\n",
       " '009_045.png',\n",
       " '009_046.png',\n",
       " '009_047.png',\n",
       " '009_050.png',\n",
       " '009_051.png',\n",
       " '009_052.png',\n",
       " '009_053.png',\n",
       " '009_054.png',\n",
       " '009_055.png',\n",
       " '009_056.png',\n",
       " '009_057.png',\n",
       " '009_068.png',\n",
       " '009_069.png',\n",
       " '009_078.png',\n",
       " '009_079.png',\n",
       " '009_080.png',\n",
       " '009_081.png',\n",
       " '009_082.png',\n",
       " '009_083.png',\n",
       " '009_084.png',\n",
       " '009_085.png',\n",
       " '009_086.png',\n",
       " '009_087.png',\n",
       " '009_088.png',\n",
       " '009_089.png',\n",
       " '009_090.png',\n",
       " '009_091.png',\n",
       " '009_092.png',\n",
       " '009_093.png',\n",
       " '009_094.png',\n",
       " '009_095.png',\n",
       " '009_096.png',\n",
       " '009_097.png',\n",
       " '009_100.png',\n",
       " '009_101.png',\n",
       " '009_102.png',\n",
       " '009_103.png',\n",
       " '009_104.png',\n",
       " '009_105.png',\n",
       " '009_106.png',\n",
       " '009_108.png',\n",
       " '009_109.png',\n",
       " '009_110.png',\n",
       " '009_111.png',\n",
       " '009_112.png',\n",
       " '010_055.png',\n",
       " '010_068.png',\n",
       " '010_069.png',\n",
       " '010_081.png',\n",
       " '010_082.png',\n",
       " ...]"
      ]
     },
     "execution_count": 3,
     "metadata": {},
     "output_type": "execute_result"
    }
   ],
   "source": [
    "# What files are available?\n",
    "\n",
    "os.listdir(\"C://Users/user/Desktop/Vic/Bee-Hive-Health-Analyzer-master/honey-bee-annotated images/bee_imgs/bee_imgs\")"
   ]
  },
  {
   "cell_type": "markdown",
   "metadata": {
    "_uuid": "f2d043abbee34d9d0c02e92231d4bd27e79a58b7"
   },
   "source": [
    "### LABELS\n",
    "What are the labels and what is the class distribution?"
   ]
  },
  {
   "cell_type": "code",
   "execution_count": 4,
   "metadata": {
    "_uuid": "9f6d1f42790155d5ed901bc3ec4f64c4ee51f87e"
   },
   "outputs": [
    {
     "data": {
      "text/plain": [
       "healthy                       3384\n",
       "few varrao, hive beetles       579\n",
       "Varroa, Small Hive Beetles     472\n",
       "ant problems                   457\n",
       "hive being robbed              251\n",
       "missing queen                   29\n",
       "Name: health, dtype: int64"
      ]
     },
     "execution_count": 4,
     "metadata": {},
     "output_type": "execute_result"
    }
   ],
   "source": [
    "df = pd.read_csv('bee_data.csv')\n",
    "df['health'].value_counts()"
   ]
  },
  {
   "cell_type": "markdown",
   "metadata": {
    "_uuid": "086162161ba405b800863e7d545b5917e5205984"
   },
   "source": [
    "### Create the directory structure\n",
    "\n",
    "In these folders we will store the images that will later be fed to the Keras generators. "
   ]
  },
  {
   "cell_type": "code",
   "execution_count": 5,
   "metadata": {
    "_kg_hide-input": true,
    "_uuid": "d24ef21f9f2359b8bf6b3e7a0b8ab5a43daaf566"
   },
   "outputs": [
    {
     "ename": "FileExistsError",
     "evalue": "[WinError 183] Cannot create a file when that file already exists: 'base_dir'",
     "output_type": "error",
     "traceback": [
      "\u001b[1;31m---------------------------------------------------------------------------\u001b[0m",
      "\u001b[1;31mFileExistsError\u001b[0m                           Traceback (most recent call last)",
      "\u001b[1;32m<ipython-input-5-3c53ca141ab6>\u001b[0m in \u001b[0;36m<module>\u001b[1;34m\u001b[0m\n\u001b[0;32m      9\u001b[0m \u001b[1;31m# Create a new directory\u001b[0m\u001b[1;33m\u001b[0m\u001b[1;33m\u001b[0m\u001b[1;33m\u001b[0m\u001b[0m\n\u001b[0;32m     10\u001b[0m \u001b[0mbase_dir\u001b[0m \u001b[1;33m=\u001b[0m \u001b[1;34m'base_dir'\u001b[0m\u001b[1;33m\u001b[0m\u001b[1;33m\u001b[0m\u001b[0m\n\u001b[1;32m---> 11\u001b[1;33m \u001b[0mos\u001b[0m\u001b[1;33m.\u001b[0m\u001b[0mmkdir\u001b[0m\u001b[1;33m(\u001b[0m\u001b[0mbase_dir\u001b[0m\u001b[1;33m)\u001b[0m\u001b[1;33m\u001b[0m\u001b[1;33m\u001b[0m\u001b[0m\n\u001b[0m\u001b[0;32m     12\u001b[0m \u001b[1;33m\u001b[0m\u001b[0m\n\u001b[0;32m     13\u001b[0m \u001b[1;33m\u001b[0m\u001b[0m\n",
      "\u001b[1;31mFileExistsError\u001b[0m: [WinError 183] Cannot create a file when that file already exists: 'base_dir'"
     ]
    }
   ],
   "source": [
    "# Key:\n",
    "# healthy = healthy\n",
    "# fvar = few varrao, hive beetles\n",
    "# var = Varroa, Small Hive Beetles\n",
    "# ant = ant problems\n",
    "# robbed = hive being robbed\n",
    "# queen = missing queen\n",
    "\n",
    "# Create a new directory\n",
    "base_dir = 'base_dir'\n",
    "os.mkdir(base_dir)\n",
    "\n",
    "\n",
    "#[CREATE FOLDERS INSIDE THE BASE DIRECTORY]\n",
    "\n",
    "# train_dir\n",
    "    # 1_healthy\n",
    "    # 2_fvar\n",
    "    # 3_var\n",
    "    # 4_ant\n",
    "    # 5_robbed\n",
    "    # 6_queen\n",
    " \n",
    "# val_dir\n",
    "    # 1_healthy\n",
    "    # 2_fvar\n",
    "    # 3_var\n",
    "    # 4_ant\n",
    "    # 5_robbed\n",
    "    # 6_queen\n",
    "\n",
    "# create a path to 'base_dir' to which we will join the names of the new folders\n",
    "\n",
    "# train_dir\n",
    "train_dir = os.path.join(base_dir, 'train_dir')\n",
    "os.mkdir(train_dir)\n",
    "\n",
    "# val_dir\n",
    "val_dir = os.path.join(base_dir, 'val_dir')\n",
    "os.mkdir(val_dir)\n",
    "\n",
    "\n",
    "# [CREATE FOLDERS INSIDE THE TRAIN AND VALIDATION FOLDERS]\n",
    "# Inside each folder we create seperate folders for each class\n",
    "\n",
    "# create new folders inside train_dir\n",
    "healthy = os.path.join(train_dir, '1_healthy')\n",
    "os.mkdir(healthy)\n",
    "fvar = os.path.join(train_dir, '2_fvar')\n",
    "os.mkdir(fvar)\n",
    "var = os.path.join(train_dir, '3_var')\n",
    "os.mkdir(var)\n",
    "ant = os.path.join(train_dir, '4_ant')\n",
    "os.mkdir(ant)\n",
    "robbed = os.path.join(train_dir, '5_robbed')\n",
    "os.mkdir(robbed)\n",
    "queen = os.path.join(train_dir, '6_queen')\n",
    "os.mkdir(queen)\n",
    "\n",
    "\n",
    "# create new folders inside val_dir\n",
    "healthy = os.path.join(val_dir, '1_healthy')\n",
    "os.mkdir(healthy)\n",
    "fvar = os.path.join(val_dir, '2_fvar')\n",
    "os.mkdir(fvar)\n",
    "var = os.path.join(val_dir, '3_var')\n",
    "os.mkdir(var)\n",
    "ant = os.path.join(val_dir, '4_ant')\n",
    "os.mkdir(ant)\n",
    "robbed = os.path.join(val_dir, '5_robbed')\n",
    "os.mkdir(robbed)\n",
    "queen = os.path.join(val_dir, '6_queen')\n",
    "os.mkdir(queen)\n",
    "\n"
   ]
  },
  {
   "cell_type": "markdown",
   "metadata": {
    "_uuid": "4ae8d37fdee293aaffa71a79019dd7277f8288fc"
   },
   "source": [
    "### Create Train and Val Sets"
   ]
  },
  {
   "cell_type": "code",
   "execution_count": 6,
   "metadata": {
    "_uuid": "268503398ef61904e05a2c0b0667d589f08a19a8"
   },
   "outputs": [
    {
     "data": {
      "text/html": [
       "<div>\n",
       "<style scoped>\n",
       "    .dataframe tbody tr th:only-of-type {\n",
       "        vertical-align: middle;\n",
       "    }\n",
       "\n",
       "    .dataframe tbody tr th {\n",
       "        vertical-align: top;\n",
       "    }\n",
       "\n",
       "    .dataframe thead th {\n",
       "        text-align: right;\n",
       "    }\n",
       "</style>\n",
       "<table border=\"1\" class=\"dataframe\">\n",
       "  <thead>\n",
       "    <tr style=\"text-align: right;\">\n",
       "      <th></th>\n",
       "      <th>file</th>\n",
       "      <th>date</th>\n",
       "      <th>time</th>\n",
       "      <th>location</th>\n",
       "      <th>zip code</th>\n",
       "      <th>subspecies</th>\n",
       "      <th>health</th>\n",
       "      <th>pollen_carrying</th>\n",
       "      <th>caste</th>\n",
       "    </tr>\n",
       "  </thead>\n",
       "  <tbody>\n",
       "    <tr>\n",
       "      <td>0</td>\n",
       "      <td>041_066.png</td>\n",
       "      <td>8/28/18</td>\n",
       "      <td>16:07</td>\n",
       "      <td>Alvin, TX, USA</td>\n",
       "      <td>77511</td>\n",
       "      <td>-1</td>\n",
       "      <td>hive being robbed</td>\n",
       "      <td>False</td>\n",
       "      <td>worker</td>\n",
       "    </tr>\n",
       "    <tr>\n",
       "      <td>1</td>\n",
       "      <td>041_072.png</td>\n",
       "      <td>8/28/18</td>\n",
       "      <td>16:07</td>\n",
       "      <td>Alvin, TX, USA</td>\n",
       "      <td>77511</td>\n",
       "      <td>-1</td>\n",
       "      <td>hive being robbed</td>\n",
       "      <td>False</td>\n",
       "      <td>worker</td>\n",
       "    </tr>\n",
       "    <tr>\n",
       "      <td>2</td>\n",
       "      <td>041_073.png</td>\n",
       "      <td>8/28/18</td>\n",
       "      <td>16:07</td>\n",
       "      <td>Alvin, TX, USA</td>\n",
       "      <td>77511</td>\n",
       "      <td>-1</td>\n",
       "      <td>hive being robbed</td>\n",
       "      <td>False</td>\n",
       "      <td>worker</td>\n",
       "    </tr>\n",
       "    <tr>\n",
       "      <td>3</td>\n",
       "      <td>041_067.png</td>\n",
       "      <td>8/28/18</td>\n",
       "      <td>16:07</td>\n",
       "      <td>Alvin, TX, USA</td>\n",
       "      <td>77511</td>\n",
       "      <td>-1</td>\n",
       "      <td>hive being robbed</td>\n",
       "      <td>False</td>\n",
       "      <td>worker</td>\n",
       "    </tr>\n",
       "    <tr>\n",
       "      <td>4</td>\n",
       "      <td>041_059.png</td>\n",
       "      <td>8/28/18</td>\n",
       "      <td>16:07</td>\n",
       "      <td>Alvin, TX, USA</td>\n",
       "      <td>77511</td>\n",
       "      <td>-1</td>\n",
       "      <td>hive being robbed</td>\n",
       "      <td>False</td>\n",
       "      <td>worker</td>\n",
       "    </tr>\n",
       "  </tbody>\n",
       "</table>\n",
       "</div>"
      ],
      "text/plain": [
       "          file     date   time        location  zip code subspecies  \\\n",
       "0  041_066.png  8/28/18  16:07  Alvin, TX, USA     77511         -1   \n",
       "1  041_072.png  8/28/18  16:07  Alvin, TX, USA     77511         -1   \n",
       "2  041_073.png  8/28/18  16:07  Alvin, TX, USA     77511         -1   \n",
       "3  041_067.png  8/28/18  16:07  Alvin, TX, USA     77511         -1   \n",
       "4  041_059.png  8/28/18  16:07  Alvin, TX, USA     77511         -1   \n",
       "\n",
       "              health  pollen_carrying   caste  \n",
       "0  hive being robbed            False  worker  \n",
       "1  hive being robbed            False  worker  \n",
       "2  hive being robbed            False  worker  \n",
       "3  hive being robbed            False  worker  \n",
       "4  hive being robbed            False  worker  "
      ]
     },
     "execution_count": 6,
     "metadata": {},
     "output_type": "execute_result"
    }
   ],
   "source": [
    "df_data = pd.read_csv('bee_data.csv')\n",
    "\n",
    "df_data.head()"
   ]
  },
  {
   "cell_type": "markdown",
   "metadata": {
    "_uuid": "3e3a3a5fcabd8f06ed7099c90bfb733496b6de6b"
   },
   "source": [
    "### Downsample the 'healthy' class to reduce the class imbalance"
   ]
  },
  {
   "cell_type": "code",
   "execution_count": 7,
   "metadata": {
    "_uuid": "1a332efcbc2fc282a76094552858b8c79f02da61"
   },
   "outputs": [
    {
     "data": {
      "text/plain": [
       "few varrao, hive beetles      579\n",
       "healthy                       579\n",
       "Varroa, Small Hive Beetles    472\n",
       "ant problems                  457\n",
       "hive being robbed             251\n",
       "missing queen                  29\n",
       "Name: health, dtype: int64"
      ]
     },
     "execution_count": 7,
     "metadata": {},
     "output_type": "execute_result"
    }
   ],
   "source": [
    "# take a random sample of class 'healthy'\n",
    "df = df_data[df_data['health'] == 'healthy'].sample(HEALTHY_SAMPLE_SIZE, random_state=101)\n",
    "\n",
    "# remove class 'healthy' from the dataframe\n",
    "df_data = df_data[df_data['health'] != 'healthy']\n",
    "\n",
    "# concat df and df_data\n",
    "df_data = pd.concat([df_data, df], axis=0).reset_index(drop=True)\n",
    "\n",
    "# shuffle the new dataframe\n",
    "df_data = shuffle(df_data)\n",
    "\n",
    "# check the new class distribution\n",
    "df_data['health'].value_counts()"
   ]
  },
  {
   "cell_type": "markdown",
   "metadata": {
    "_uuid": "db267968b6e95ad401a28313fbf3468a53c08f89"
   },
   "source": [
    "### Creat train and val sets"
   ]
  },
  {
   "cell_type": "code",
   "execution_count": 8,
   "metadata": {
    "_uuid": "df735da903622942a61e08391b3c86d6dcdb266f"
   },
   "outputs": [
    {
     "name": "stdout",
     "output_type": "stream",
     "text": [
      "(2130, 9)\n",
      "(237, 9)\n"
     ]
    }
   ],
   "source": [
    "\n",
    "y = df_data['health']\n",
    "\n",
    "df_train, df_val = train_test_split(df_data, test_size=0.1, random_state=101, stratify=y)\n",
    "\n",
    "print(df_train.shape)\n",
    "print(df_val.shape)"
   ]
  },
  {
   "cell_type": "code",
   "execution_count": 9,
   "metadata": {
    "_uuid": "4b976a9018b1bd2dc0522c68339c5861534a1571"
   },
   "outputs": [
    {
     "data": {
      "text/plain": [
       "few varrao, hive beetles      521\n",
       "healthy                       521\n",
       "Varroa, Small Hive Beetles    425\n",
       "ant problems                  411\n",
       "hive being robbed             226\n",
       "missing queen                  26\n",
       "Name: health, dtype: int64"
      ]
     },
     "execution_count": 9,
     "metadata": {},
     "output_type": "execute_result"
    }
   ],
   "source": [
    "df_train['health'].value_counts()"
   ]
  },
  {
   "cell_type": "code",
   "execution_count": 10,
   "metadata": {
    "_uuid": "1581d5a3e86f9673ae175102112017e30229bc37",
    "scrolled": true
   },
   "outputs": [
    {
     "data": {
      "text/plain": [
       "healthy                       58\n",
       "few varrao, hive beetles      58\n",
       "Varroa, Small Hive Beetles    47\n",
       "ant problems                  46\n",
       "hive being robbed             25\n",
       "missing queen                  3\n",
       "Name: health, dtype: int64"
      ]
     },
     "execution_count": 10,
     "metadata": {},
     "output_type": "execute_result"
    }
   ],
   "source": [
    "df_val['health'].value_counts()"
   ]
  },
  {
   "cell_type": "markdown",
   "metadata": {
    "_uuid": "8812ad87c4fa18d2d82497df42c3895c7f10bc39"
   },
   "source": []
  },
  {
   "cell_type": "code",
   "execution_count": 11,
   "metadata": {
    "_uuid": "4acee2b7879762e50b52df118a9b691515fe7ac0"
   },
   "outputs": [],
   "source": [
    "# Set the 'file' column as the index in df_data\n",
    "df_data.set_index('file', inplace=True)"
   ]
  },
  {
   "cell_type": "code",
   "execution_count": 12,
   "metadata": {
    "_uuid": "eca02fbf066c8124d0cb465295bbd2593f5f045a"
   },
   "outputs": [
    {
     "ename": "NameError",
     "evalue": "name 'train_dir' is not defined",
     "output_type": "error",
     "traceback": [
      "\u001b[1;31m---------------------------------------------------------------------------\u001b[0m",
      "\u001b[1;31mNameError\u001b[0m                                 Traceback (most recent call last)",
      "\u001b[1;32m<ipython-input-12-83e052b605d8>\u001b[0m in \u001b[0;36m<module>\u001b[1;34m\u001b[0m\n\u001b[0;32m     46\u001b[0m     \u001b[0mnew_name\u001b[0m \u001b[1;33m=\u001b[0m \u001b[0mstr\u001b[0m\u001b[1;33m(\u001b[0m\u001b[0mi\u001b[0m\u001b[1;33m)\u001b[0m \u001b[1;33m+\u001b[0m \u001b[1;34m'_'\u001b[0m \u001b[1;33m+\u001b[0m \u001b[1;34m'train'\u001b[0m\u001b[1;33m+\u001b[0m \u001b[1;34m'.png'\u001b[0m\u001b[1;33m\u001b[0m\u001b[1;33m\u001b[0m\u001b[0m\n\u001b[0;32m     47\u001b[0m     \u001b[1;31m# destination path to image\u001b[0m\u001b[1;33m\u001b[0m\u001b[1;33m\u001b[0m\u001b[1;33m\u001b[0m\u001b[0m\n\u001b[1;32m---> 48\u001b[1;33m     \u001b[0mdst\u001b[0m \u001b[1;33m=\u001b[0m \u001b[0mos\u001b[0m\u001b[1;33m.\u001b[0m\u001b[0mpath\u001b[0m\u001b[1;33m.\u001b[0m\u001b[0mjoin\u001b[0m\u001b[1;33m(\u001b[0m\u001b[0mtrain_dir\u001b[0m\u001b[1;33m,\u001b[0m \u001b[0mlabel\u001b[0m\u001b[1;33m,\u001b[0m \u001b[0mnew_name\u001b[0m\u001b[1;33m)\u001b[0m\u001b[1;33m\u001b[0m\u001b[1;33m\u001b[0m\u001b[0m\n\u001b[0m\u001b[0;32m     49\u001b[0m     \u001b[1;31m# copy the image from the source to the destination\u001b[0m\u001b[1;33m\u001b[0m\u001b[1;33m\u001b[0m\u001b[1;33m\u001b[0m\u001b[0m\n\u001b[0;32m     50\u001b[0m     \u001b[0mshutil\u001b[0m\u001b[1;33m.\u001b[0m\u001b[0mcopyfile\u001b[0m\u001b[1;33m(\u001b[0m\u001b[0msrc\u001b[0m\u001b[1;33m,\u001b[0m \u001b[0mdst\u001b[0m\u001b[1;33m)\u001b[0m\u001b[1;33m\u001b[0m\u001b[1;33m\u001b[0m\u001b[0m\n",
      "\u001b[1;31mNameError\u001b[0m: name 'train_dir' is not defined"
     ]
    }
   ],
   "source": [
    "\n",
    "# Get a list of train and val images\n",
    "train_list = list(df_train['file'])\n",
    "val_list = list(df_val['file'])\n",
    "\n",
    "# Key:\n",
    "# healthy = healthy\n",
    "# fvar = few varrao, hive beetles\n",
    "# var = Varroa, Small Hive Beetles\n",
    "# ant = ant problems\n",
    "# robbed = hive being robbed\n",
    "# queen = missing queen\n",
    "\n",
    "\n",
    "\n",
    "# Transfer the train images.\n",
    "# Note that we re-name the files during the transfer using a number sequence. This is just a\n",
    "# safety measure help the generators create a repeatable sequence of images. \n",
    "\n",
    "\n",
    "length = len(train_list)\n",
    "\n",
    "for i in range(0,length):\n",
    "    \n",
    "    fname = train_list[i]\n",
    "    image = fname\n",
    "    description = df_data.loc[image,'health']\n",
    "    \n",
    "    # map the class descriptions to folder names\n",
    "    if description == 'healthy':\n",
    "        label = '1_healthy'\n",
    "    if description == 'few varrao, hive beetles':\n",
    "        label = '2_fvar'\n",
    "    if description == 'Varroa, Small Hive Beetles':\n",
    "        label = '3_var'\n",
    "    if description == 'ant problems':\n",
    "        label = '4_ant'\n",
    "    if description == 'hive being robbed':\n",
    "        label = '5_robbed'\n",
    "    if description == 'missing queen':\n",
    "        label = '6_queen'\n",
    "        \n",
    "        \n",
    "    # source path to image\n",
    "    src = os.path.join('C://Users/user/Desktop/Vic/Bee-Hive-Health-Analyzer-master/honey-bee-annotated images/bee_imgs/bee_imgs', fname)\n",
    "    # chage the file name\n",
    "    new_name = str(i) + '_' + 'train'+ '.png'\n",
    "    # destination path to image\n",
    "    dst = os.path.join(train_dir, label, new_name)\n",
    "    # copy the image from the source to the destination\n",
    "    shutil.copyfile(src, dst)\n",
    "\n",
    "\n",
    "# Transfer the val images\n",
    "\n",
    "length = len(val_list)\n",
    "\n",
    "for i in range(0,length):\n",
    "    \n",
    "    fname = val_list[i]\n",
    "    image = fname\n",
    "    description = df_data.loc[image,'health']\n",
    "    \n",
    "     # map the class descriptions to folder names\n",
    "    if description == 'healthy':\n",
    "        label = '1_healthy'\n",
    "    if description == 'few varrao, hive beetles':\n",
    "        label = '2_fvar'\n",
    "    if description == 'Varroa, Small Hive Beetles':\n",
    "        label = '3_var'\n",
    "    if description == 'ant problems':\n",
    "        label = '4_ant'\n",
    "    if description == 'hive being robbed':\n",
    "        label = '5_robbed'\n",
    "    if description == 'missing queen':\n",
    "        label = '6_queen'\n",
    "    \n",
    "    # source path to image\n",
    "    src = os.path.join('C://Users/user/Desktop/Vic/Bee-Hive-Health-Analyzer-master/honey-bee-annotated images/bee_imgs/bee_imgs', fname)\n",
    "    # chage the file name\n",
    "    new_name = str(i) + '_' + 'val' + '.png'\n",
    "    # destination path to image\n",
    "    dst = os.path.join(val_dir, label, new_name)\n",
    "    # copy the image from the source to the destination\n",
    "    shutil.copyfile(src, dst)\n",
    "\n",
    "        "
   ]
  },
  {
   "cell_type": "code",
   "execution_count": 13,
   "metadata": {
    "_uuid": "5a4847c4cc799c23e57bf2531d92117cb95e1b07"
   },
   "outputs": [
    {
     "name": "stdout",
     "output_type": "stream",
     "text": [
      "3001\n",
      "3001\n",
      "2973\n",
      "2985\n",
      "2919\n",
      "2895\n"
     ]
    }
   ],
   "source": [
    "# check how many train images we have in each folder\n",
    "\n",
    "print(len(os.listdir('base_dir/train_dir/1_healthy')))\n",
    "print(len(os.listdir('base_dir/train_dir/2_fvar')))\n",
    "print(len(os.listdir('base_dir/train_dir/3_var')))\n",
    "print(len(os.listdir('base_dir/train_dir/4_ant')))\n",
    "print(len(os.listdir('base_dir/train_dir/5_robbed')))\n",
    "print(len(os.listdir('base_dir/train_dir/6_queen')))\n"
   ]
  },
  {
   "cell_type": "code",
   "execution_count": 14,
   "metadata": {
    "_uuid": "fd05c08cbfa00418dc333f5b67d1ff6e98aa973e"
   },
   "outputs": [
    {
     "name": "stdout",
     "output_type": "stream",
     "text": [
      "58\n",
      "58\n",
      "47\n",
      "46\n",
      "25\n",
      "3\n"
     ]
    }
   ],
   "source": [
    "# check how many val images we have in each folder\n",
    "\n",
    "print(len(os.listdir('base_dir/val_dir/1_healthy')))\n",
    "print(len(os.listdir('base_dir/val_dir/2_fvar')))\n",
    "print(len(os.listdir('base_dir/val_dir/3_var')))\n",
    "print(len(os.listdir('base_dir/val_dir/4_ant')))\n",
    "print(len(os.listdir('base_dir/val_dir/5_robbed')))\n",
    "print(len(os.listdir('base_dir/val_dir/6_queen')))\n"
   ]
  },
  {
   "cell_type": "raw",
   "metadata": {
    "_uuid": "cebcb5242ff542efb03be5086bf3796bea70c591"
   },
   "source": [
    "# Copy the train images  into aug_dir\n",
    "We will not be doing image augmentation on the fly. We will augment the images and then add them to the train folders before training begins. This way the augmented images will be combined with the original images. The training process will also run faster."
   ]
  },
  {
   "cell_type": "code",
   "execution_count": 15,
   "metadata": {
    "_uuid": "8fe970d74e9d5a284420af4ad37d8aae89dc1c15"
   },
   "outputs": [
    {
     "name": "stdout",
     "output_type": "stream",
     "text": [
      "Found 3001 images belonging to 1 classes.\n",
      "Found 3001 images belonging to 1 classes.\n",
      "Found 2973 images belonging to 1 classes.\n",
      "Found 2985 images belonging to 1 classes.\n",
      "Found 2919 images belonging to 1 classes.\n",
      "Found 2895 images belonging to 1 classes.\n"
     ]
    }
   ],
   "source": [
    "# note that we are not augmenting class 'healthy'\n",
    "class_list = ['1_healthy', '2_fvar','3_var','4_ant','5_robbed','6_queen']\n",
    "\n",
    "for item in class_list:\n",
    "    \n",
    "    # We are creating temporary directories here because we delete these directories later.\n",
    "    \n",
    "    # create a base dir\n",
    "    aug_dir = 'aug_dir'\n",
    "    os.mkdir(aug_dir)\n",
    "    # create a dir within the base dir to store images of the same class\n",
    "    img_dir = os.path.join(aug_dir, 'img_dir')\n",
    "    os.mkdir(img_dir)\n",
    "\n",
    "    # Choose a class\n",
    "    img_class = item\n",
    "\n",
    "    # list all images in that directory\n",
    "    img_list = os.listdir('base_dir/train_dir/' + img_class)\n",
    "\n",
    "    # Copy images from the class train dir to the img_dir e.g. class 'healthy'\n",
    "    for fname in img_list:\n",
    "            # source path to image\n",
    "            src = os.path.join('base_dir/train_dir/' + img_class, fname)\n",
    "            # destination path to image\n",
    "            dst = os.path.join(img_dir, fname)\n",
    "            # copy the image from the source to the destination\n",
    "            shutil.copyfile(src, dst)\n",
    "\n",
    "\n",
    "    # point to a dir containing the images and NOT to the images themselves\n",
    "    path = aug_dir\n",
    "    save_path = 'base_dir/train_dir/' + img_class\n",
    "\n",
    "    # Create a data generator to generate augmented images for each class.\n",
    "    datagen = ImageDataGenerator(\n",
    "        #rotation_range=180,\n",
    "        width_shift_range=0.1,\n",
    "        height_shift_range=0.1,\n",
    "        zoom_range=0.01,\n",
    "        #horizontal_flip=True,\n",
    "        #vertical_flip=True,\n",
    "        brightness_range=(0.9,1.1),\n",
    "        fill_mode='nearest')\n",
    "\n",
    "    batch_size = 9\n",
    "\n",
    "    aug_datagen = datagen.flow_from_directory(path,\n",
    "                                        save_to_dir=save_path, # this is where the images are saved\n",
    "                                        save_format='jpg',\n",
    "                                        target_size=(IMAGE_SIZE,IMAGE_SIZE),\n",
    "                                        batch_size=batch_size)\n",
    "\n",
    "\n",
    "\n",
    "    # Generate the augmented images and add them to the training folders\n",
    "    \n",
    "    # NUM_IMAGES_WANTED = total number of images we want to have in each class\n",
    "    # We will use image augmentation to create the additional images.\n",
    "    \n",
    "    num_files = len(os.listdir(img_dir))\n",
    "    \n",
    "    # Just a calculation to get approx. the same amount of images for each class.\n",
    "    num_batches = int(np.ceil((NUM_IMAGES_WANTED-num_files)/batch_size))\n",
    "\n",
    "    # Run the generator and create augmented images.\n",
    "    # Note that these images are automatically stored in a folder. The path\n",
    "    # to the save folder is specified as a parameter in the generator above.\n",
    "    for i in range(0,num_batches):\n",
    "\n",
    "        imgs, labels = next(aug_datagen)\n",
    "        \n",
    "    # delete temporary directory with the raw image files\n",
    "    shutil.rmtree('aug_dir')"
   ]
  },
  {
   "cell_type": "code",
   "execution_count": 16,
   "metadata": {
    "_uuid": "b9bbc56bd25441150d2430dca2b07d8ebae57d95"
   },
   "outputs": [
    {
     "name": "stdout",
     "output_type": "stream",
     "text": [
      "3001\n",
      "3001\n",
      "3000\n",
      "3003\n",
      "3000\n",
      "3003\n"
     ]
    }
   ],
   "source": [
    "# Check how many train images we now have in each folder.\n",
    "# This is the original images plus the augmented images.\n",
    "\n",
    "print(len(os.listdir('base_dir/train_dir/1_healthy')))\n",
    "print(len(os.listdir('base_dir/train_dir/2_fvar')))\n",
    "print(len(os.listdir('base_dir/train_dir/3_var')))\n",
    "print(len(os.listdir('base_dir/train_dir/4_ant')))\n",
    "print(len(os.listdir('base_dir/train_dir/5_robbed')))\n",
    "print(len(os.listdir('base_dir/train_dir/6_queen')))"
   ]
  },
  {
   "cell_type": "code",
   "execution_count": 17,
   "metadata": {
    "_uuid": "21de03bdc63ecf78cc061d364d14d3216a544b43"
   },
   "outputs": [
    {
     "name": "stdout",
     "output_type": "stream",
     "text": [
      "58\n",
      "58\n",
      "47\n",
      "46\n",
      "25\n",
      "3\n"
     ]
    }
   ],
   "source": [
    "# Check how many val images we have in each folder.\n",
    "\n",
    "print(len(os.listdir('base_dir/val_dir/1_healthy')))\n",
    "print(len(os.listdir('base_dir/val_dir/2_fvar')))\n",
    "print(len(os.listdir('base_dir/val_dir/3_var')))\n",
    "print(len(os.listdir('base_dir/val_dir/4_ant')))\n",
    "print(len(os.listdir('base_dir/val_dir/5_robbed')))\n",
    "print(len(os.listdir('base_dir/val_dir/6_queen')))"
   ]
  },
  {
   "cell_type": "markdown",
   "metadata": {
    "_uuid": "767cb7d35e301369f020cdbb705da1620ba8e594"
   },
   "source": [
    "### Visualize a batch of augmented images"
   ]
  },
  {
   "cell_type": "code",
   "execution_count": 18,
   "metadata": {
    "_uuid": "5f0e13a8455af926fe449e1b3ea818b704724202"
   },
   "outputs": [
    {
     "data": {
      "image/png": "[encoded data removed]",
      "text/plain": [
       "<Figure size 864x432 with 9 Axes>"
      ]
     },
     "metadata": {
      "needs_background": "light"
     },
     "output_type": "display_data"
    }
   ],
   "source": [
    "# plots images with labels within jupyter notebook\n",
    "# source: https://github.com/smileservices/keras_utils/blob/master/utils.py\n",
    "\n",
    "def plots(ims, figsize=(12,6), rows=2, interp=False, titles=None): # 12,6\n",
    "    if type(ims[0]) is np.ndarray:\n",
    "        ims = np.array(ims).astype(np.uint8)\n",
    "        if (ims.shape[-1] != 3):\n",
    "            ims = ims.transpose((0,2,3,1))\n",
    "    f = plt.figure(figsize=figsize)\n",
    "    cols = len(ims)//rows if len(ims) % 2 == 0 else len(ims)//rows + 1\n",
    "    for i in range(len(ims)):\n",
    "        sp = f.add_subplot(rows, cols, i+1)\n",
    "        sp.axis('Off')\n",
    "        if titles is not None:\n",
    "            sp.set_title(titles[i], fontsize=16)\n",
    "        plt.imshow(ims[i], interpolation=None if interp else 'none')\n",
    "        \n",
    "plots(imgs, titles=None) # titles=labels will display the image labels"
   ]
  },
  {
   "cell_type": "code",
   "execution_count": null,
   "metadata": {
    "_uuid": "c3e2126a39c06568a1f95da2ab42353447d1be20"
   },
   "outputs": [],
   "source": [
    "# End of Data Preparation\n",
    "### ===================================================================================== ###\n",
    "# Start of Model Building"
   ]
  },
  {
   "cell_type": "markdown",
   "metadata": {
    "_uuid": "32dad10b7c104d2baa972da8cbadc7d6038af05c"
   },
   "source": [
    "### Set Up the Generators"
   ]
  },
  {
   "cell_type": "code",
   "execution_count": 19,
   "metadata": {
    "_uuid": "aa1041d69b0e8313324b91e3e9475799e1ad61c2"
   },
   "outputs": [],
   "source": [
    "train_path = 'base_dir/train_dir'\n",
    "valid_path = 'base_dir/val_dir'\n",
    "\n",
    "num_train_samples = len(df_train)\n",
    "num_val_samples = len(df_val)\n",
    "train_batch_size = 10\n",
    "val_batch_size = 10\n",
    "image_size = 224\n",
    "\n",
    "train_steps = np.ceil(num_train_samples / train_batch_size)\n",
    "val_steps = np.ceil(num_val_samples / val_batch_size)\n"
   ]
  },
  {
   "cell_type": "markdown",
   "metadata": {
    "_uuid": "edcafa3869045130020d364c640959622459977a"
   },
   "source": [
    "#### A Note on Image Pre-propcessing to Suit MobileNet\n",
    "\n",
    "We will be applying the same pre-processing to the bee images as was applied to the original ImageNet  images that were used to train MobileNet. We will add this pre-processing as a preprocessing_function in the generators below."
   ]
  },
  {
   "cell_type": "code",
   "execution_count": 20,
   "metadata": {
    "_uuid": "d0e5aede7139196b0d4e1344b278e7621f005550"
   },
   "outputs": [
    {
     "name": "stdout",
     "output_type": "stream",
     "text": [
      "Found 18008 images belonging to 6 classes.\n",
      "Found 237 images belonging to 6 classes.\n",
      "Found 237 images belonging to 6 classes.\n"
     ]
    }
   ],
   "source": [
    "\n",
    "datagen = ImageDataGenerator(preprocessing_function=\n",
    "                             tensorflow.keras.applications.mobilenet.preprocess_input)\n",
    "\n",
    "train_gen = datagen.flow_from_directory(train_path,\n",
    "                                        target_size=(image_size,image_size),\n",
    "                                        batch_size=train_batch_size,\n",
    "                                        class_mode='categorical')\n",
    "\n",
    "val_gen = datagen.flow_from_directory(valid_path,\n",
    "                                        target_size=(image_size,image_size),\n",
    "                                        batch_size=val_batch_size,\n",
    "                                        class_mode='categorical')\n",
    "\n",
    "# Note: shuffle=False causes the test dataset to not be shuffled.\n",
    "# Here we will be using the val set as the test dataset because we need to run predict\n",
    "# in order to generate the confusion matrix.\n",
    "test_gen = datagen.flow_from_directory(valid_path,\n",
    "                                        target_size=(image_size,image_size),\n",
    "                                        batch_size=1,\n",
    "                                        class_mode='categorical',\n",
    "                                        shuffle=False)"
   ]
  },
  {
   "cell_type": "markdown",
   "metadata": {
    "_uuid": "8ee4ee41f1b16083bd9fc20ee9dec40acccc97dd"
   },
   "source": [
    "### Modify MobileNet Model"
   ]
  },
  {
   "cell_type": "code",
   "execution_count": 21,
   "metadata": {
    "_uuid": "ad582cb8ea0ca2d563fc367aa89b7edfafc1a57f"
   },
   "outputs": [],
   "source": [
    "# Create a copy of a mobilenet model.\n",
    "# Please ensure your kaggle kernel is set to 'Internet Connected'.\n",
    "\n",
    "mobile = tensorflow.keras.applications.mobilenet.MobileNet()"
   ]
  },
  {
   "cell_type": "code",
   "execution_count": 22,
   "metadata": {
    "_kg_hide-output": true,
    "_uuid": "960449ec7ecdda92ba733ad23b00b7be605f3d4b"
   },
   "outputs": [
    {
     "name": "stdout",
     "output_type": "stream",
     "text": [
      "Model: \"mobilenet_1.00_224\"\n",
      "_________________________________________________________________\n",
      "Layer (type)                 Output Shape              Param #   \n",
      "=================================================================\n",
      "input_1 (InputLayer)         [(None, 224, 224, 3)]     0         \n",
      "_________________________________________________________________\n",
      "conv1_pad (ZeroPadding2D)    (None, 225, 225, 3)       0         \n",
      "_________________________________________________________________\n",
      "conv1 (Conv2D)               (None, 112, 112, 32)      864       \n",
      "_________________________________________________________________\n",
      "conv1_bn (BatchNormalization (None, 112, 112, 32)      128       \n",
      "_________________________________________________________________\n",
      "conv1_relu (ReLU)            (None, 112, 112, 32)      0         \n",
      "_________________________________________________________________\n",
      "conv_dw_1 (DepthwiseConv2D)  (None, 112, 112, 32)      288       \n",
      "_________________________________________________________________\n",
      "conv_dw_1_bn (BatchNormaliza (None, 112, 112, 32)      128       \n",
      "_________________________________________________________________\n",
      "conv_dw_1_relu (ReLU)        (None, 112, 112, 32)      0         \n",
      "_________________________________________________________________\n",
      "conv_pw_1 (Conv2D)           (None, 112, 112, 64)      2048      \n",
      "_________________________________________________________________\n",
      "conv_pw_1_bn (BatchNormaliza (None, 112, 112, 64)      256       \n",
      "_________________________________________________________________\n",
      "conv_pw_1_relu (ReLU)        (None, 112, 112, 64)      0         \n",
      "_________________________________________________________________\n",
      "conv_pad_2 (ZeroPadding2D)   (None, 113, 113, 64)      0         \n",
      "_________________________________________________________________\n",
      "conv_dw_2 (DepthwiseConv2D)  (None, 56, 56, 64)        576       \n",
      "_________________________________________________________________\n",
      "conv_dw_2_bn (BatchNormaliza (None, 56, 56, 64)        256       \n",
      "_________________________________________________________________\n",
      "conv_dw_2_relu (ReLU)        (None, 56, 56, 64)        0         \n",
      "_________________________________________________________________\n",
      "conv_pw_2 (Conv2D)           (None, 56, 56, 128)       8192      \n",
      "_________________________________________________________________\n",
      "conv_pw_2_bn (BatchNormaliza (None, 56, 56, 128)       512       \n",
      "_________________________________________________________________\n",
      "conv_pw_2_relu (ReLU)        (None, 56, 56, 128)       0         \n",
      "_________________________________________________________________\n",
      "conv_dw_3 (DepthwiseConv2D)  (None, 56, 56, 128)       1152      \n",
      "_________________________________________________________________\n",
      "conv_dw_3_bn (BatchNormaliza (None, 56, 56, 128)       512       \n",
      "_________________________________________________________________\n",
      "conv_dw_3_relu (ReLU)        (None, 56, 56, 128)       0         \n",
      "_________________________________________________________________\n",
      "conv_pw_3 (Conv2D)           (None, 56, 56, 128)       16384     \n",
      "_________________________________________________________________\n",
      "conv_pw_3_bn (BatchNormaliza (None, 56, 56, 128)       512       \n",
      "_________________________________________________________________\n",
      "conv_pw_3_relu (ReLU)        (None, 56, 56, 128)       0         \n",
      "_________________________________________________________________\n",
      "conv_pad_4 (ZeroPadding2D)   (None, 57, 57, 128)       0         \n",
      "_________________________________________________________________\n",
      "conv_dw_4 (DepthwiseConv2D)  (None, 28, 28, 128)       1152      \n",
      "_________________________________________________________________\n",
      "conv_dw_4_bn (BatchNormaliza (None, 28, 28, 128)       512       \n",
      "_________________________________________________________________\n",
      "conv_dw_4_relu (ReLU)        (None, 28, 28, 128)       0         \n",
      "_________________________________________________________________\n",
      "conv_pw_4 (Conv2D)           (None, 28, 28, 256)       32768     \n",
      "_________________________________________________________________\n",
      "conv_pw_4_bn (BatchNormaliza (None, 28, 28, 256)       1024      \n",
      "_________________________________________________________________\n",
      "conv_pw_4_relu (ReLU)        (None, 28, 28, 256)       0         \n",
      "_________________________________________________________________\n",
      "conv_dw_5 (DepthwiseConv2D)  (None, 28, 28, 256)       2304      \n",
      "_________________________________________________________________\n",
      "conv_dw_5_bn (BatchNormaliza (None, 28, 28, 256)       1024      \n",
      "_________________________________________________________________\n",
      "conv_dw_5_relu (ReLU)        (None, 28, 28, 256)       0         \n",
      "_________________________________________________________________\n",
      "conv_pw_5 (Conv2D)           (None, 28, 28, 256)       65536     \n",
      "_________________________________________________________________\n",
      "conv_pw_5_bn (BatchNormaliza (None, 28, 28, 256)       1024      \n",
      "_________________________________________________________________\n",
      "conv_pw_5_relu (ReLU)        (None, 28, 28, 256)       0         \n",
      "_________________________________________________________________\n",
      "conv_pad_6 (ZeroPadding2D)   (None, 29, 29, 256)       0         \n",
      "_________________________________________________________________\n",
      "conv_dw_6 (DepthwiseConv2D)  (None, 14, 14, 256)       2304      \n",
      "_________________________________________________________________\n",
      "conv_dw_6_bn (BatchNormaliza (None, 14, 14, 256)       1024      \n",
      "_________________________________________________________________\n",
      "conv_dw_6_relu (ReLU)        (None, 14, 14, 256)       0         \n",
      "_________________________________________________________________\n",
      "conv_pw_6 (Conv2D)           (None, 14, 14, 512)       131072    \n",
      "_________________________________________________________________\n",
      "conv_pw_6_bn (BatchNormaliza (None, 14, 14, 512)       2048      \n",
      "_________________________________________________________________\n",
      "conv_pw_6_relu (ReLU)        (None, 14, 14, 512)       0         \n",
      "_________________________________________________________________\n",
      "conv_dw_7 (DepthwiseConv2D)  (None, 14, 14, 512)       4608      \n",
      "_________________________________________________________________\n",
      "conv_dw_7_bn (BatchNormaliza (None, 14, 14, 512)       2048      \n",
      "_________________________________________________________________\n",
      "conv_dw_7_relu (ReLU)        (None, 14, 14, 512)       0         \n",
      "_________________________________________________________________\n",
      "conv_pw_7 (Conv2D)           (None, 14, 14, 512)       262144    \n",
      "_________________________________________________________________\n",
      "conv_pw_7_bn (BatchNormaliza (None, 14, 14, 512)       2048      \n",
      "_________________________________________________________________\n",
      "conv_pw_7_relu (ReLU)        (None, 14, 14, 512)       0         \n",
      "_________________________________________________________________\n",
      "conv_dw_8 (DepthwiseConv2D)  (None, 14, 14, 512)       4608      \n",
      "_________________________________________________________________\n",
      "conv_dw_8_bn (BatchNormaliza (None, 14, 14, 512)       2048      \n",
      "_________________________________________________________________\n",
      "conv_dw_8_relu (ReLU)        (None, 14, 14, 512)       0         \n",
      "_________________________________________________________________\n",
      "conv_pw_8 (Conv2D)           (None, 14, 14, 512)       262144    \n",
      "_________________________________________________________________\n",
      "conv_pw_8_bn (BatchNormaliza (None, 14, 14, 512)       2048      \n",
      "_________________________________________________________________\n",
      "conv_pw_8_relu (ReLU)        (None, 14, 14, 512)       0         \n",
      "_________________________________________________________________\n",
      "conv_dw_9 (DepthwiseConv2D)  (None, 14, 14, 512)       4608      \n",
      "_________________________________________________________________\n",
      "conv_dw_9_bn (BatchNormaliza (None, 14, 14, 512)       2048      \n",
      "_________________________________________________________________\n",
      "conv_dw_9_relu (ReLU)        (None, 14, 14, 512)       0         \n",
      "_________________________________________________________________\n",
      "conv_pw_9 (Conv2D)           (None, 14, 14, 512)       262144    \n",
      "_________________________________________________________________\n",
      "conv_pw_9_bn (BatchNormaliza (None, 14, 14, 512)       2048      \n",
      "_________________________________________________________________\n",
      "conv_pw_9_relu (ReLU)        (None, 14, 14, 512)       0         \n",
      "_________________________________________________________________\n",
      "conv_dw_10 (DepthwiseConv2D) (None, 14, 14, 512)       4608      \n",
      "_________________________________________________________________\n",
      "conv_dw_10_bn (BatchNormaliz (None, 14, 14, 512)       2048      \n",
      "_________________________________________________________________\n",
      "conv_dw_10_relu (ReLU)       (None, 14, 14, 512)       0         \n",
      "_________________________________________________________________\n",
      "conv_pw_10 (Conv2D)          (None, 14, 14, 512)       262144    \n",
      "_________________________________________________________________\n",
      "conv_pw_10_bn (BatchNormaliz (None, 14, 14, 512)       2048      \n",
      "_________________________________________________________________\n",
      "conv_pw_10_relu (ReLU)       (None, 14, 14, 512)       0         \n",
      "_________________________________________________________________\n",
      "conv_dw_11 (DepthwiseConv2D) (None, 14, 14, 512)       4608      \n",
      "_________________________________________________________________\n",
      "conv_dw_11_bn (BatchNormaliz (None, 14, 14, 512)       2048      \n",
      "_________________________________________________________________\n",
      "conv_dw_11_relu (ReLU)       (None, 14, 14, 512)       0         \n",
      "_________________________________________________________________\n",
      "conv_pw_11 (Conv2D)          (None, 14, 14, 512)       262144    \n",
      "_________________________________________________________________\n",
      "conv_pw_11_bn (BatchNormaliz (None, 14, 14, 512)       2048      \n",
      "_________________________________________________________________\n",
      "conv_pw_11_relu (ReLU)       (None, 14, 14, 512)       0         \n",
      "_________________________________________________________________\n",
      "conv_pad_12 (ZeroPadding2D)  (None, 15, 15, 512)       0         \n",
      "_________________________________________________________________\n",
      "conv_dw_12 (DepthwiseConv2D) (None, 7, 7, 512)         4608      \n",
      "_________________________________________________________________\n",
      "conv_dw_12_bn (BatchNormaliz (None, 7, 7, 512)         2048      \n",
      "_________________________________________________________________\n",
      "conv_dw_12_relu (ReLU)       (None, 7, 7, 512)         0         \n",
      "_________________________________________________________________\n",
      "conv_pw_12 (Conv2D)          (None, 7, 7, 1024)        524288    \n",
      "_________________________________________________________________\n",
      "conv_pw_12_bn (BatchNormaliz (None, 7, 7, 1024)        4096      \n",
      "_________________________________________________________________\n",
      "conv_pw_12_relu (ReLU)       (None, 7, 7, 1024)        0         \n",
      "_________________________________________________________________\n",
      "conv_dw_13 (DepthwiseConv2D) (None, 7, 7, 1024)        9216      \n",
      "_________________________________________________________________\n",
      "conv_dw_13_bn (BatchNormaliz (None, 7, 7, 1024)        4096      \n",
      "_________________________________________________________________\n",
      "conv_dw_13_relu (ReLU)       (None, 7, 7, 1024)        0         \n",
      "_________________________________________________________________\n",
      "conv_pw_13 (Conv2D)          (None, 7, 7, 1024)        1048576   \n",
      "_________________________________________________________________\n",
      "conv_pw_13_bn (BatchNormaliz (None, 7, 7, 1024)        4096      \n",
      "_________________________________________________________________\n",
      "conv_pw_13_relu (ReLU)       (None, 7, 7, 1024)        0         \n",
      "_________________________________________________________________\n",
      "global_average_pooling2d (Gl (None, 1024)              0         \n",
      "_________________________________________________________________\n",
      "reshape_1 (Reshape)          (None, 1, 1, 1024)        0         \n",
      "_________________________________________________________________\n",
      "dropout (Dropout)            (None, 1, 1, 1024)        0         \n",
      "_________________________________________________________________\n",
      "conv_preds (Conv2D)          (None, 1, 1, 1000)        1025000   \n",
      "_________________________________________________________________\n",
      "reshape_2 (Reshape)          (None, 1000)              0         \n",
      "_________________________________________________________________\n",
      "act_softmax (Activation)     (None, 1000)              0         \n",
      "=================================================================\n",
      "Total params: 4,253,864\n",
      "Trainable params: 4,231,976\n",
      "Non-trainable params: 21,888\n",
      "_________________________________________________________________\n"
     ]
    }
   ],
   "source": [
    "mobile.summary()"
   ]
  },
  {
   "cell_type": "code",
   "execution_count": 23,
   "metadata": {
    "_uuid": "5b7922bdf625675834d9b63ec0e85351bd9f3c0f"
   },
   "outputs": [
    {
     "data": {
      "text/plain": [
       "list"
      ]
     },
     "execution_count": 23,
     "metadata": {},
     "output_type": "execute_result"
    }
   ],
   "source": [
    "type(mobile.layers)"
   ]
  },
  {
   "cell_type": "code",
   "execution_count": 24,
   "metadata": {
    "_uuid": "f832e5865c65a013a06dbf5d500c0381020c56d5"
   },
   "outputs": [
    {
     "data": {
      "text/plain": [
       "93"
      ]
     },
     "execution_count": 24,
     "metadata": {},
     "output_type": "execute_result"
    }
   ],
   "source": [
    "# How many layers does MobileNet have?\n",
    "len(mobile.layers)"
   ]
  },
  {
   "cell_type": "code",
   "execution_count": 26,
   "metadata": {
    "_uuid": "4dd9dcf26d85a57a113e6b158cf8fceeca7f99de"
   },
   "outputs": [],
   "source": [
    "# CREATE THE MODEL ARCHITECTURE\n",
    "\n",
    "# Exclude the last 5 layers of the above model.\n",
    "# This will include all layers up to and including global_average_pooling2d_1\n",
    "x = mobile.layers[-6].output\n",
    "\n",
    "# Create a new dense layer for predictions\n",
    "# 6 corresponds to the number of classes\n",
    "#x = Dropout(0.25)(x)\n",
    "predictions = Dense(6, activation='softmax')(x)\n",
    "\n",
    "# inputs=mobile.input selects the input layer, outputs=predictions refers to the\n",
    "# dense layer we created above.\n",
    "\n",
    "model = Model(inputs=mobile.input, outputs=predictions)"
   ]
  },
  {
   "cell_type": "code",
   "execution_count": 27,
   "metadata": {
    "_kg_hide-output": true,
    "_uuid": "b38734b72afc4289ab187a9e683cbda6bf3269bc"
   },
   "outputs": [
    {
     "name": "stdout",
     "output_type": "stream",
     "text": [
      "Model: \"model_1\"\n",
      "_________________________________________________________________\n",
      "Layer (type)                 Output Shape              Param #   \n",
      "=================================================================\n",
      "input_1 (InputLayer)         [(None, 224, 224, 3)]     0         \n",
      "_________________________________________________________________\n",
      "conv1_pad (ZeroPadding2D)    (None, 225, 225, 3)       0         \n",
      "_________________________________________________________________\n",
      "conv1 (Conv2D)               (None, 112, 112, 32)      864       \n",
      "_________________________________________________________________\n",
      "conv1_bn (BatchNormalization (None, 112, 112, 32)      128       \n",
      "_________________________________________________________________\n",
      "conv1_relu (ReLU)            (None, 112, 112, 32)      0         \n",
      "_________________________________________________________________\n",
      "conv_dw_1 (DepthwiseConv2D)  (None, 112, 112, 32)      288       \n",
      "_________________________________________________________________\n",
      "conv_dw_1_bn (BatchNormaliza (None, 112, 112, 32)      128       \n",
      "_________________________________________________________________\n",
      "conv_dw_1_relu (ReLU)        (None, 112, 112, 32)      0         \n",
      "_________________________________________________________________\n",
      "conv_pw_1 (Conv2D)           (None, 112, 112, 64)      2048      \n",
      "_________________________________________________________________\n",
      "conv_pw_1_bn (BatchNormaliza (None, 112, 112, 64)      256       \n",
      "_________________________________________________________________\n",
      "conv_pw_1_relu (ReLU)        (None, 112, 112, 64)      0         \n",
      "_________________________________________________________________\n",
      "conv_pad_2 (ZeroPadding2D)   (None, 113, 113, 64)      0         \n",
      "_________________________________________________________________\n",
      "conv_dw_2 (DepthwiseConv2D)  (None, 56, 56, 64)        576       \n",
      "_________________________________________________________________\n",
      "conv_dw_2_bn (BatchNormaliza (None, 56, 56, 64)        256       \n",
      "_________________________________________________________________\n",
      "conv_dw_2_relu (ReLU)        (None, 56, 56, 64)        0         \n",
      "_________________________________________________________________\n",
      "conv_pw_2 (Conv2D)           (None, 56, 56, 128)       8192      \n",
      "_________________________________________________________________\n",
      "conv_pw_2_bn (BatchNormaliza (None, 56, 56, 128)       512       \n",
      "_________________________________________________________________\n",
      "conv_pw_2_relu (ReLU)        (None, 56, 56, 128)       0         \n",
      "_________________________________________________________________\n",
      "conv_dw_3 (DepthwiseConv2D)  (None, 56, 56, 128)       1152      \n",
      "_________________________________________________________________\n",
      "conv_dw_3_bn (BatchNormaliza (None, 56, 56, 128)       512       \n",
      "_________________________________________________________________\n",
      "conv_dw_3_relu (ReLU)        (None, 56, 56, 128)       0         \n",
      "_________________________________________________________________\n",
      "conv_pw_3 (Conv2D)           (None, 56, 56, 128)       16384     \n",
      "_________________________________________________________________\n",
      "conv_pw_3_bn (BatchNormaliza (None, 56, 56, 128)       512       \n",
      "_________________________________________________________________\n",
      "conv_pw_3_relu (ReLU)        (None, 56, 56, 128)       0         \n",
      "_________________________________________________________________\n",
      "conv_pad_4 (ZeroPadding2D)   (None, 57, 57, 128)       0         \n",
      "_________________________________________________________________\n",
      "conv_dw_4 (DepthwiseConv2D)  (None, 28, 28, 128)       1152      \n",
      "_________________________________________________________________\n",
      "conv_dw_4_bn (BatchNormaliza (None, 28, 28, 128)       512       \n",
      "_________________________________________________________________\n",
      "conv_dw_4_relu (ReLU)        (None, 28, 28, 128)       0         \n",
      "_________________________________________________________________\n",
      "conv_pw_4 (Conv2D)           (None, 28, 28, 256)       32768     \n",
      "_________________________________________________________________\n",
      "conv_pw_4_bn (BatchNormaliza (None, 28, 28, 256)       1024      \n",
      "_________________________________________________________________\n",
      "conv_pw_4_relu (ReLU)        (None, 28, 28, 256)       0         \n",
      "_________________________________________________________________\n",
      "conv_dw_5 (DepthwiseConv2D)  (None, 28, 28, 256)       2304      \n",
      "_________________________________________________________________\n",
      "conv_dw_5_bn (BatchNormaliza (None, 28, 28, 256)       1024      \n",
      "_________________________________________________________________\n",
      "conv_dw_5_relu (ReLU)        (None, 28, 28, 256)       0         \n",
      "_________________________________________________________________\n",
      "conv_pw_5 (Conv2D)           (None, 28, 28, 256)       65536     \n",
      "_________________________________________________________________\n",
      "conv_pw_5_bn (BatchNormaliza (None, 28, 28, 256)       1024      \n",
      "_________________________________________________________________\n",
      "conv_pw_5_relu (ReLU)        (None, 28, 28, 256)       0         \n",
      "_________________________________________________________________\n",
      "conv_pad_6 (ZeroPadding2D)   (None, 29, 29, 256)       0         \n",
      "_________________________________________________________________\n",
      "conv_dw_6 (DepthwiseConv2D)  (None, 14, 14, 256)       2304      \n",
      "_________________________________________________________________\n",
      "conv_dw_6_bn (BatchNormaliza (None, 14, 14, 256)       1024      \n",
      "_________________________________________________________________\n",
      "conv_dw_6_relu (ReLU)        (None, 14, 14, 256)       0         \n",
      "_________________________________________________________________\n",
      "conv_pw_6 (Conv2D)           (None, 14, 14, 512)       131072    \n",
      "_________________________________________________________________\n",
      "conv_pw_6_bn (BatchNormaliza (None, 14, 14, 512)       2048      \n",
      "_________________________________________________________________\n",
      "conv_pw_6_relu (ReLU)        (None, 14, 14, 512)       0         \n",
      "_________________________________________________________________\n",
      "conv_dw_7 (DepthwiseConv2D)  (None, 14, 14, 512)       4608      \n",
      "_________________________________________________________________\n",
      "conv_dw_7_bn (BatchNormaliza (None, 14, 14, 512)       2048      \n",
      "_________________________________________________________________\n",
      "conv_dw_7_relu (ReLU)        (None, 14, 14, 512)       0         \n",
      "_________________________________________________________________\n",
      "conv_pw_7 (Conv2D)           (None, 14, 14, 512)       262144    \n",
      "_________________________________________________________________\n",
      "conv_pw_7_bn (BatchNormaliza (None, 14, 14, 512)       2048      \n",
      "_________________________________________________________________\n",
      "conv_pw_7_relu (ReLU)        (None, 14, 14, 512)       0         \n",
      "_________________________________________________________________\n",
      "conv_dw_8 (DepthwiseConv2D)  (None, 14, 14, 512)       4608      \n",
      "_________________________________________________________________\n",
      "conv_dw_8_bn (BatchNormaliza (None, 14, 14, 512)       2048      \n",
      "_________________________________________________________________\n",
      "conv_dw_8_relu (ReLU)        (None, 14, 14, 512)       0         \n",
      "_________________________________________________________________\n",
      "conv_pw_8 (Conv2D)           (None, 14, 14, 512)       262144    \n",
      "_________________________________________________________________\n",
      "conv_pw_8_bn (BatchNormaliza (None, 14, 14, 512)       2048      \n",
      "_________________________________________________________________\n",
      "conv_pw_8_relu (ReLU)        (None, 14, 14, 512)       0         \n",
      "_________________________________________________________________\n",
      "conv_dw_9 (DepthwiseConv2D)  (None, 14, 14, 512)       4608      \n",
      "_________________________________________________________________\n",
      "conv_dw_9_bn (BatchNormaliza (None, 14, 14, 512)       2048      \n",
      "_________________________________________________________________\n",
      "conv_dw_9_relu (ReLU)        (None, 14, 14, 512)       0         \n",
      "_________________________________________________________________\n",
      "conv_pw_9 (Conv2D)           (None, 14, 14, 512)       262144    \n",
      "_________________________________________________________________\n",
      "conv_pw_9_bn (BatchNormaliza (None, 14, 14, 512)       2048      \n",
      "_________________________________________________________________\n",
      "conv_pw_9_relu (ReLU)        (None, 14, 14, 512)       0         \n",
      "_________________________________________________________________\n",
      "conv_dw_10 (DepthwiseConv2D) (None, 14, 14, 512)       4608      \n",
      "_________________________________________________________________\n",
      "conv_dw_10_bn (BatchNormaliz (None, 14, 14, 512)       2048      \n",
      "_________________________________________________________________\n",
      "conv_dw_10_relu (ReLU)       (None, 14, 14, 512)       0         \n",
      "_________________________________________________________________\n",
      "conv_pw_10 (Conv2D)          (None, 14, 14, 512)       262144    \n",
      "_________________________________________________________________\n",
      "conv_pw_10_bn (BatchNormaliz (None, 14, 14, 512)       2048      \n",
      "_________________________________________________________________\n",
      "conv_pw_10_relu (ReLU)       (None, 14, 14, 512)       0         \n",
      "_________________________________________________________________\n",
      "conv_dw_11 (DepthwiseConv2D) (None, 14, 14, 512)       4608      \n",
      "_________________________________________________________________\n",
      "conv_dw_11_bn (BatchNormaliz (None, 14, 14, 512)       2048      \n",
      "_________________________________________________________________\n",
      "conv_dw_11_relu (ReLU)       (None, 14, 14, 512)       0         \n",
      "_________________________________________________________________\n",
      "conv_pw_11 (Conv2D)          (None, 14, 14, 512)       262144    \n",
      "_________________________________________________________________\n",
      "conv_pw_11_bn (BatchNormaliz (None, 14, 14, 512)       2048      \n",
      "_________________________________________________________________\n",
      "conv_pw_11_relu (ReLU)       (None, 14, 14, 512)       0         \n",
      "_________________________________________________________________\n",
      "conv_pad_12 (ZeroPadding2D)  (None, 15, 15, 512)       0         \n",
      "_________________________________________________________________\n",
      "conv_dw_12 (DepthwiseConv2D) (None, 7, 7, 512)         4608      \n",
      "_________________________________________________________________\n",
      "conv_dw_12_bn (BatchNormaliz (None, 7, 7, 512)         2048      \n",
      "_________________________________________________________________\n",
      "conv_dw_12_relu (ReLU)       (None, 7, 7, 512)         0         \n",
      "_________________________________________________________________\n",
      "conv_pw_12 (Conv2D)          (None, 7, 7, 1024)        524288    \n",
      "_________________________________________________________________\n",
      "conv_pw_12_bn (BatchNormaliz (None, 7, 7, 1024)        4096      \n",
      "_________________________________________________________________\n",
      "conv_pw_12_relu (ReLU)       (None, 7, 7, 1024)        0         \n",
      "_________________________________________________________________\n",
      "conv_dw_13 (DepthwiseConv2D) (None, 7, 7, 1024)        9216      \n",
      "_________________________________________________________________\n",
      "conv_dw_13_bn (BatchNormaliz (None, 7, 7, 1024)        4096      \n",
      "_________________________________________________________________\n",
      "conv_dw_13_relu (ReLU)       (None, 7, 7, 1024)        0         \n",
      "_________________________________________________________________\n",
      "conv_pw_13 (Conv2D)          (None, 7, 7, 1024)        1048576   \n",
      "_________________________________________________________________\n",
      "conv_pw_13_bn (BatchNormaliz (None, 7, 7, 1024)        4096      \n",
      "_________________________________________________________________\n",
      "conv_pw_13_relu (ReLU)       (None, 7, 7, 1024)        0         \n",
      "_________________________________________________________________\n",
      "global_average_pooling2d (Gl (None, 1024)              0         \n",
      "_________________________________________________________________\n",
      "dense_1 (Dense)              (None, 6)                 6150      \n",
      "=================================================================\n",
      "Total params: 3,235,014\n",
      "Trainable params: 3,213,126\n",
      "Non-trainable params: 21,888\n",
      "_________________________________________________________________\n"
     ]
    }
   ],
   "source": [
    "model.summary()"
   ]
  },
  {
   "cell_type": "code",
   "execution_count": 28,
   "metadata": {
    "_uuid": "a9d74e44630c3d07a596460c8fbfda3ae7cae1e9"
   },
   "outputs": [],
   "source": [
    "# We need to choose how many layers we actually want to be trained.\n",
    "\n",
    "# Here we are freezing the weights of all layers except the\n",
    "# last 23 layers in the new model.\n",
    "# The last 23 layers of the model will be trained.\n",
    "\n",
    "for layer in model.layers[:-23]:\n",
    "    layer.trainable = False"
   ]
  },
  {
   "cell_type": "markdown",
   "metadata": {
    "_uuid": "13cf63a53e5195cb8a9725d2506c71108bc478b9"
   },
   "source": [
    "### Train the Model"
   ]
  },
  {
   "cell_type": "code",
   "execution_count": 29,
   "metadata": {
    "_uuid": "2013ff1abae70fed845af94e7ab3d95cefad0d61"
   },
   "outputs": [],
   "source": [
    "model.compile(Adam(lr=0.001), loss='categorical_crossentropy', \n",
    "              metrics=['accuracy'])\n"
   ]
  },
  {
   "cell_type": "code",
   "execution_count": 58,
   "metadata": {
    "_kg_hide-output": true,
    "_uuid": "4a5e3bc3cf44f1d4326c34ad880a302ba082e9d5",
    "scrolled": true
   },
   "outputs": [
    {
     "name": "stdout",
     "output_type": "stream",
     "text": [
      "WARNING:tensorflow:sample_weight modes were coerced from\n",
      "  ...\n",
      "    to  \n",
      "  ['...']\n",
      "WARNING:tensorflow:sample_weight modes were coerced from\n",
      "  ...\n",
      "    to  \n",
      "  ['...']\n",
      "Train for 213.0 steps, validate for 24.0 steps\n",
      "Epoch 1/10\n",
      "212/213 [============================>.] - ETA: 0s - loss: 0.1313 - accuracy: 0.9571\n",
      "Epoch 00001: val_accuracy improved from -inf to 0.68354, saving model to model.hdf5\n",
      "213/213 [==============================] - 164s 768ms/step - loss: 0.1327 - accuracy: 0.9563 - val_loss: 1.3110 - val_accuracy: 0.6835\n",
      "Epoch 2/10\n",
      "212/213 [============================>.] - ETA: 1s - loss: 0.1009 - accuracy: 0.9651\n",
      "Epoch 00002: val_accuracy improved from 0.68354 to 0.77637, saving model to model.hdf5\n",
      "213/213 [==============================] - 265s 1s/step - loss: 0.1005 - accuracy: 0.9653 - val_loss: 0.8092 - val_accuracy: 0.7764\n",
      "Epoch 3/10\n",
      "212/213 [============================>.] - ETA: 0s - loss: 0.1011 - accuracy: 0.9660\n",
      "Epoch 00003: val_accuracy improved from 0.77637 to 0.81435, saving model to model.hdf5\n",
      "213/213 [==============================] - 190s 891ms/step - loss: 0.1009 - accuracy: 0.9662 - val_loss: 0.8559 - val_accuracy: 0.8143\n",
      "Epoch 4/10\n",
      "212/213 [============================>.] - ETA: 0s - loss: 0.1064 - accuracy: 0.9599\n",
      "Epoch 00004: val_accuracy did not improve from 0.81435\n",
      "213/213 [==============================] - 152s 715ms/step - loss: 0.1061 - accuracy: 0.9601 - val_loss: 0.6329 - val_accuracy: 0.7890\n",
      "Epoch 5/10\n",
      "212/213 [============================>.] - ETA: 0s - loss: 0.0745 - accuracy: 0.9736\n",
      "Epoch 00005: val_accuracy improved from 0.81435 to 0.84810, saving model to model.hdf5\n",
      "213/213 [==============================] - 166s 780ms/step - loss: 0.0752 - accuracy: 0.9732 - val_loss: 0.4911 - val_accuracy: 0.8481\n",
      "Epoch 6/10\n",
      "212/213 [============================>.] - ETA: 0s - loss: 0.0810 - accuracy: 0.9693\n",
      "Epoch 00006: val_accuracy did not improve from 0.84810\n",
      "213/213 [==============================] - 198s 931ms/step - loss: 0.0807 - accuracy: 0.9695 - val_loss: 1.0303 - val_accuracy: 0.7806\n",
      "Epoch 7/10\n",
      "212/213 [============================>.] - ETA: 0s - loss: 0.0894 - accuracy: 0.9703\n",
      "Epoch 00007: val_accuracy did not improve from 0.84810\n",
      "\n",
      "Epoch 00007: ReduceLROnPlateau reducing learning rate to 0.0005000000237487257.\n",
      "213/213 [==============================] - 220s 1s/step - loss: 0.0889 - accuracy: 0.9704 - val_loss: 1.5876 - val_accuracy: 0.6582\n",
      "Epoch 8/10\n",
      "212/213 [============================>.] - ETA: 0s - loss: 0.0516 - accuracy: 0.9811\n",
      "Epoch 00008: val_accuracy improved from 0.84810 to 0.89030, saving model to model.hdf5\n",
      "213/213 [==============================] - 228s 1s/step - loss: 0.0514 - accuracy: 0.9812 - val_loss: 0.2928 - val_accuracy: 0.8903\n",
      "Epoch 9/10\n",
      "212/213 [============================>.] - ETA: 0s - loss: 0.0290 - accuracy: 0.9901\n",
      "Epoch 00009: val_accuracy did not improve from 0.89030\n",
      "213/213 [==============================] - 196s 919ms/step - loss: 0.0289 - accuracy: 0.9901 - val_loss: 0.5062 - val_accuracy: 0.8608\n",
      "Epoch 10/10\n",
      "212/213 [============================>.] - ETA: 0s - loss: 0.0384 - accuracy: 0.9849\n",
      "Epoch 00010: val_accuracy improved from 0.89030 to 0.94093, saving model to model.hdf5\n",
      "213/213 [==============================] - 165s 775ms/step - loss: 0.0383 - accuracy: 0.9850 - val_loss: 0.2140 - val_accuracy: 0.9409\n"
     ]
    }
   ],
   "source": [
    "from keras.callbacks import ModelCheckpoint\n",
    "import h5py\n",
    "filepath = \"model.hdf5\"\n",
    "checkpoint = ModelCheckpoint(filepath, monitor='val_accuracy', verbose=1, \n",
    "                             save_best_only=True, mode='max')\n",
    "\n",
    "reduce_lr = ReduceLROnPlateau(monitor='val_accuracy', factor=0.5, patience=2, \n",
    "                                   verbose=1, mode='max', min_lr=0.00001)\n",
    "                              \n",
    "                              \n",
    "callbacks_list = [checkpoint, reduce_lr]\n",
    "\n",
    "history = model.fit_generator(train_gen, steps_per_epoch=train_steps, \n",
    "                            validation_data=val_gen,\n",
    "                            validation_steps=val_steps,\n",
    "                            epochs=10, verbose=1,\n",
    "                           callbacks=callbacks_list)\n"
   ]
  },
  {
   "cell_type": "markdown",
   "metadata": {
    "_uuid": "c3e43e3f2943db4be9d75831fe23661ae9deb44b"
   },
   "source": [
    "### Evaluate the model using the val set\n"
   ]
  },
  {
   "cell_type": "code",
   "execution_count": 48,
   "metadata": {
    "_uuid": "710ee26097924153647ac432c8ade29383fe42f1"
   },
   "outputs": [
    {
     "data": {
      "text/plain": [
       "['loss', 'accuracy']"
      ]
     },
     "execution_count": 48,
     "metadata": {},
     "output_type": "execute_result"
    }
   ],
   "source": [
    "# Get the metric names so that we can see what the output from evaulate_generator will be.\n",
    "model.metrics_names"
   ]
  },
  {
   "cell_type": "markdown",
   "metadata": {
    "_uuid": "8cb4ce7768cb0eb37f128178e173bface9bb267c"
   },
   "source": [
    "We see that the output metrics are loss and accuracy. Therefore, we now know that model.evaluate_generator() outputs val loss and val accuracy. "
   ]
  },
  {
   "cell_type": "code",
   "execution_count": 60,
   "metadata": {
    "_uuid": "897f066da922d81fefa165a6b911a741c52ef7f5"
   },
   "outputs": [
    {
     "name": "stdout",
     "output_type": "stream",
     "text": [
      "WARNING:tensorflow:sample_weight modes were coerced from\n",
      "  ...\n",
      "    to  \n",
      "  ['...']\n",
      "val_loss: 0.21669253850811565\n",
      "val_acc: 0.9409283\n"
     ]
    }
   ],
   "source": [
    "# Here the best epoch will be used.\n",
    "\n",
    "model.load_weights('model.hdf5')\n",
    "\n",
    "val_loss, val_accuracy = \\\n",
    "model.evaluate_generator(test_gen, \n",
    "                        steps=len(df_val))\n",
    "\n",
    "print('val_loss:', val_loss)\n",
    "print('val_acc:', val_accuracy)\n"
   ]
  },
  {
   "cell_type": "markdown",
   "metadata": {
    "_uuid": "c3fffba5e0aa9088cda1865c7b8d75d72c20d0f6"
   },
   "source": [
    "### Plot the Training Curves"
   ]
  },
  {
   "cell_type": "code",
   "execution_count": 61,
   "metadata": {
    "_uuid": "0cbd11ef4286a751ef2918361af035d356f341ae"
   },
   "outputs": [
    {
     "ename": "ValueError",
     "evalue": "x and y must have same first dimension, but have shapes (10,) and (1,)",
     "output_type": "error",
     "traceback": [
      "\u001b[1;31m---------------------------------------------------------------------------\u001b[0m",
      "\u001b[1;31mValueError\u001b[0m                                Traceback (most recent call last)",
      "\u001b[1;32m<ipython-input-61-752520456095>\u001b[0m in \u001b[0;36m<module>\u001b[1;34m\u001b[0m\n\u001b[0;32m     17\u001b[0m \u001b[1;33m\u001b[0m\u001b[0m\n\u001b[0;32m     18\u001b[0m \u001b[0mplt\u001b[0m\u001b[1;33m.\u001b[0m\u001b[0mplot\u001b[0m\u001b[1;33m(\u001b[0m\u001b[0mepochs\u001b[0m\u001b[1;33m,\u001b[0m \u001b[0maccuracy\u001b[0m\u001b[1;33m,\u001b[0m \u001b[1;34m'bo'\u001b[0m\u001b[1;33m,\u001b[0m \u001b[0mlabel\u001b[0m\u001b[1;33m=\u001b[0m\u001b[1;34m'Training acc'\u001b[0m\u001b[1;33m)\u001b[0m\u001b[1;33m\u001b[0m\u001b[1;33m\u001b[0m\u001b[0m\n\u001b[1;32m---> 19\u001b[1;33m \u001b[0mplt\u001b[0m\u001b[1;33m.\u001b[0m\u001b[0mplot\u001b[0m\u001b[1;33m(\u001b[0m\u001b[0mepochs\u001b[0m\u001b[1;33m,\u001b[0m \u001b[0mval_accuracy\u001b[0m\u001b[1;33m,\u001b[0m \u001b[1;34m'b'\u001b[0m\u001b[1;33m,\u001b[0m \u001b[0mlabel\u001b[0m\u001b[1;33m=\u001b[0m\u001b[1;34m'Validation acc'\u001b[0m\u001b[1;33m)\u001b[0m\u001b[1;33m\u001b[0m\u001b[1;33m\u001b[0m\u001b[0m\n\u001b[0m\u001b[0;32m     20\u001b[0m \u001b[0mplt\u001b[0m\u001b[1;33m.\u001b[0m\u001b[0mtitle\u001b[0m\u001b[1;33m(\u001b[0m\u001b[1;34m'Training and validation accuracy'\u001b[0m\u001b[1;33m)\u001b[0m\u001b[1;33m\u001b[0m\u001b[1;33m\u001b[0m\u001b[0m\n\u001b[0;32m     21\u001b[0m \u001b[0mplt\u001b[0m\u001b[1;33m.\u001b[0m\u001b[0mlegend\u001b[0m\u001b[1;33m(\u001b[0m\u001b[1;33m)\u001b[0m\u001b[1;33m\u001b[0m\u001b[1;33m\u001b[0m\u001b[0m\n",
      "\u001b[1;32m~\\Anaconda3\\lib\\site-packages\\matplotlib\\pyplot.py\u001b[0m in \u001b[0;36mplot\u001b[1;34m(scalex, scaley, data, *args, **kwargs)\u001b[0m\n\u001b[0;32m   2793\u001b[0m     return gca().plot(\n\u001b[0;32m   2794\u001b[0m         *args, scalex=scalex, scaley=scaley, **({\"data\": data} if data\n\u001b[1;32m-> 2795\u001b[1;33m         is not None else {}), **kwargs)\n\u001b[0m\u001b[0;32m   2796\u001b[0m \u001b[1;33m\u001b[0m\u001b[0m\n\u001b[0;32m   2797\u001b[0m \u001b[1;33m\u001b[0m\u001b[0m\n",
      "\u001b[1;32m~\\Anaconda3\\lib\\site-packages\\matplotlib\\axes\\_axes.py\u001b[0m in \u001b[0;36mplot\u001b[1;34m(self, scalex, scaley, data, *args, **kwargs)\u001b[0m\n\u001b[0;32m   1664\u001b[0m         \"\"\"\n\u001b[0;32m   1665\u001b[0m         \u001b[0mkwargs\u001b[0m \u001b[1;33m=\u001b[0m \u001b[0mcbook\u001b[0m\u001b[1;33m.\u001b[0m\u001b[0mnormalize_kwargs\u001b[0m\u001b[1;33m(\u001b[0m\u001b[0mkwargs\u001b[0m\u001b[1;33m,\u001b[0m \u001b[0mmlines\u001b[0m\u001b[1;33m.\u001b[0m\u001b[0mLine2D\u001b[0m\u001b[1;33m.\u001b[0m\u001b[0m_alias_map\u001b[0m\u001b[1;33m)\u001b[0m\u001b[1;33m\u001b[0m\u001b[1;33m\u001b[0m\u001b[0m\n\u001b[1;32m-> 1666\u001b[1;33m         \u001b[0mlines\u001b[0m \u001b[1;33m=\u001b[0m \u001b[1;33m[\u001b[0m\u001b[1;33m*\u001b[0m\u001b[0mself\u001b[0m\u001b[1;33m.\u001b[0m\u001b[0m_get_lines\u001b[0m\u001b[1;33m(\u001b[0m\u001b[1;33m*\u001b[0m\u001b[0margs\u001b[0m\u001b[1;33m,\u001b[0m \u001b[0mdata\u001b[0m\u001b[1;33m=\u001b[0m\u001b[0mdata\u001b[0m\u001b[1;33m,\u001b[0m \u001b[1;33m**\u001b[0m\u001b[0mkwargs\u001b[0m\u001b[1;33m)\u001b[0m\u001b[1;33m]\u001b[0m\u001b[1;33m\u001b[0m\u001b[1;33m\u001b[0m\u001b[0m\n\u001b[0m\u001b[0;32m   1667\u001b[0m         \u001b[1;32mfor\u001b[0m \u001b[0mline\u001b[0m \u001b[1;32min\u001b[0m \u001b[0mlines\u001b[0m\u001b[1;33m:\u001b[0m\u001b[1;33m\u001b[0m\u001b[1;33m\u001b[0m\u001b[0m\n\u001b[0;32m   1668\u001b[0m             \u001b[0mself\u001b[0m\u001b[1;33m.\u001b[0m\u001b[0madd_line\u001b[0m\u001b[1;33m(\u001b[0m\u001b[0mline\u001b[0m\u001b[1;33m)\u001b[0m\u001b[1;33m\u001b[0m\u001b[1;33m\u001b[0m\u001b[0m\n",
      "\u001b[1;32m~\\Anaconda3\\lib\\site-packages\\matplotlib\\axes\\_base.py\u001b[0m in \u001b[0;36m__call__\u001b[1;34m(self, *args, **kwargs)\u001b[0m\n\u001b[0;32m    223\u001b[0m                 \u001b[0mthis\u001b[0m \u001b[1;33m+=\u001b[0m \u001b[0margs\u001b[0m\u001b[1;33m[\u001b[0m\u001b[1;36m0\u001b[0m\u001b[1;33m]\u001b[0m\u001b[1;33m,\u001b[0m\u001b[1;33m\u001b[0m\u001b[1;33m\u001b[0m\u001b[0m\n\u001b[0;32m    224\u001b[0m                 \u001b[0margs\u001b[0m \u001b[1;33m=\u001b[0m \u001b[0margs\u001b[0m\u001b[1;33m[\u001b[0m\u001b[1;36m1\u001b[0m\u001b[1;33m:\u001b[0m\u001b[1;33m]\u001b[0m\u001b[1;33m\u001b[0m\u001b[1;33m\u001b[0m\u001b[0m\n\u001b[1;32m--> 225\u001b[1;33m             \u001b[1;32myield\u001b[0m \u001b[1;32mfrom\u001b[0m \u001b[0mself\u001b[0m\u001b[1;33m.\u001b[0m\u001b[0m_plot_args\u001b[0m\u001b[1;33m(\u001b[0m\u001b[0mthis\u001b[0m\u001b[1;33m,\u001b[0m \u001b[0mkwargs\u001b[0m\u001b[1;33m)\u001b[0m\u001b[1;33m\u001b[0m\u001b[1;33m\u001b[0m\u001b[0m\n\u001b[0m\u001b[0;32m    226\u001b[0m \u001b[1;33m\u001b[0m\u001b[0m\n\u001b[0;32m    227\u001b[0m     \u001b[1;32mdef\u001b[0m \u001b[0mget_next_color\u001b[0m\u001b[1;33m(\u001b[0m\u001b[0mself\u001b[0m\u001b[1;33m)\u001b[0m\u001b[1;33m:\u001b[0m\u001b[1;33m\u001b[0m\u001b[1;33m\u001b[0m\u001b[0m\n",
      "\u001b[1;32m~\\Anaconda3\\lib\\site-packages\\matplotlib\\axes\\_base.py\u001b[0m in \u001b[0;36m_plot_args\u001b[1;34m(self, tup, kwargs)\u001b[0m\n\u001b[0;32m    389\u001b[0m             \u001b[0mx\u001b[0m\u001b[1;33m,\u001b[0m \u001b[0my\u001b[0m \u001b[1;33m=\u001b[0m \u001b[0mindex_of\u001b[0m\u001b[1;33m(\u001b[0m\u001b[0mtup\u001b[0m\u001b[1;33m[\u001b[0m\u001b[1;33m-\u001b[0m\u001b[1;36m1\u001b[0m\u001b[1;33m]\u001b[0m\u001b[1;33m)\u001b[0m\u001b[1;33m\u001b[0m\u001b[1;33m\u001b[0m\u001b[0m\n\u001b[0;32m    390\u001b[0m \u001b[1;33m\u001b[0m\u001b[0m\n\u001b[1;32m--> 391\u001b[1;33m         \u001b[0mx\u001b[0m\u001b[1;33m,\u001b[0m \u001b[0my\u001b[0m \u001b[1;33m=\u001b[0m \u001b[0mself\u001b[0m\u001b[1;33m.\u001b[0m\u001b[0m_xy_from_xy\u001b[0m\u001b[1;33m(\u001b[0m\u001b[0mx\u001b[0m\u001b[1;33m,\u001b[0m \u001b[0my\u001b[0m\u001b[1;33m)\u001b[0m\u001b[1;33m\u001b[0m\u001b[1;33m\u001b[0m\u001b[0m\n\u001b[0m\u001b[0;32m    392\u001b[0m \u001b[1;33m\u001b[0m\u001b[0m\n\u001b[0;32m    393\u001b[0m         \u001b[1;32mif\u001b[0m \u001b[0mself\u001b[0m\u001b[1;33m.\u001b[0m\u001b[0mcommand\u001b[0m \u001b[1;33m==\u001b[0m \u001b[1;34m'plot'\u001b[0m\u001b[1;33m:\u001b[0m\u001b[1;33m\u001b[0m\u001b[1;33m\u001b[0m\u001b[0m\n",
      "\u001b[1;32m~\\Anaconda3\\lib\\site-packages\\matplotlib\\axes\\_base.py\u001b[0m in \u001b[0;36m_xy_from_xy\u001b[1;34m(self, x, y)\u001b[0m\n\u001b[0;32m    268\u001b[0m         \u001b[1;32mif\u001b[0m \u001b[0mx\u001b[0m\u001b[1;33m.\u001b[0m\u001b[0mshape\u001b[0m\u001b[1;33m[\u001b[0m\u001b[1;36m0\u001b[0m\u001b[1;33m]\u001b[0m \u001b[1;33m!=\u001b[0m \u001b[0my\u001b[0m\u001b[1;33m.\u001b[0m\u001b[0mshape\u001b[0m\u001b[1;33m[\u001b[0m\u001b[1;36m0\u001b[0m\u001b[1;33m]\u001b[0m\u001b[1;33m:\u001b[0m\u001b[1;33m\u001b[0m\u001b[1;33m\u001b[0m\u001b[0m\n\u001b[0;32m    269\u001b[0m             raise ValueError(\"x and y must have same first dimension, but \"\n\u001b[1;32m--> 270\u001b[1;33m                              \"have shapes {} and {}\".format(x.shape, y.shape))\n\u001b[0m\u001b[0;32m    271\u001b[0m         \u001b[1;32mif\u001b[0m \u001b[0mx\u001b[0m\u001b[1;33m.\u001b[0m\u001b[0mndim\u001b[0m \u001b[1;33m>\u001b[0m \u001b[1;36m2\u001b[0m \u001b[1;32mor\u001b[0m \u001b[0my\u001b[0m\u001b[1;33m.\u001b[0m\u001b[0mndim\u001b[0m \u001b[1;33m>\u001b[0m \u001b[1;36m2\u001b[0m\u001b[1;33m:\u001b[0m\u001b[1;33m\u001b[0m\u001b[1;33m\u001b[0m\u001b[0m\n\u001b[0;32m    272\u001b[0m             raise ValueError(\"x and y can be no greater than 2-D, but have \"\n",
      "\u001b[1;31mValueError\u001b[0m: x and y must have same first dimension, but have shapes (10,) and (1,)"
     ]
    },
    {
     "data": {
      "image/png": "[encoded data removed]",
      "text/plain": [
       "<Figure size 432x288 with 1 Axes>"
      ]
     },
     "metadata": {
      "needs_background": "light"
     },
     "output_type": "display_data"
    },
    {
     "data": {
      "image/png": "[encoded data removed]",
      "text/plain": [
       "<Figure size 432x288 with 1 Axes>"
      ]
     },
     "metadata": {
      "needs_background": "light"
     },
     "output_type": "display_data"
    }
   ],
   "source": [
    "# display the loss and accuracy curves\n",
    "\n",
    "import matplotlib.pyplot as plt\n",
    "\n",
    "accuracy = history.history['accuracy']\n",
    "val_acc = history.history['val_accuracy']\n",
    "loss = history.history['loss']\n",
    "val_loss = history.history['val_loss']\n",
    "\n",
    "epochs = range(1, len(accuracy) + 1)\n",
    "\n",
    "plt.plot(epochs, loss, 'bo', label='Training loss')\n",
    "plt.plot(epochs, val_loss, 'b', label='Validation loss')\n",
    "plt.title('Training and validation loss')\n",
    "plt.legend()\n",
    "plt.figure()\n",
    "\n",
    "plt.plot(epochs, accuracy, 'bo', label='Training acc')\n",
    "plt.plot(epochs, val_accuracy, 'b', label='Validation acc')\n",
    "plt.title('Training and validation accuracy')\n",
    "plt.legend()\n",
    "plt.figure()\n"
   ]
  },
  {
   "cell_type": "markdown",
   "metadata": {
    "_uuid": "4204e4056c8d12c1fee72b97912879cad4ee483f"
   },
   "source": [
    "### Create a Confusion Matrix\n",
    "\n",
    "The confusion matrix and F1 score will tell us how well our model is able to perform on each individual class. "
   ]
  },
  {
   "cell_type": "code",
   "execution_count": 62,
   "metadata": {
    "_uuid": "701dafc5874aa60a054a74c04170cb7e8d750e94"
   },
   "outputs": [
    {
     "name": "stdout",
     "output_type": "stream",
     "text": [
      "WARNING:tensorflow:From <ipython-input-62-f01537319b51>:4: Model.predict_generator (from tensorflow.python.keras.engine.training) is deprecated and will be removed in a future version.\n",
      "Instructions for updating:\n",
      "Please use Model.predict, which supports generators.\n",
      "237/237 [==============================] - 34s 142ms/step\n"
     ]
    }
   ],
   "source": [
    "# make a prediction\n",
    "from tensorflow.keras.models import load_model\n",
    "\n",
    "predictions = model.predict_generator(test_gen, steps=len(df_val), verbose=1)"
   ]
  },
  {
   "cell_type": "code",
   "execution_count": 63,
   "metadata": {
    "_uuid": "dcce17ac0488ff90d29b11592c9226ed1bb210fb"
   },
   "outputs": [],
   "source": [
    "# Get the index of the class with the highest probability score\n",
    "y_pred = np.argmax(predictions, axis=1)\n",
    "\n",
    "# Get the labels of the test images.\n",
    "y_true = test_gen.classes"
   ]
  },
  {
   "cell_type": "code",
   "execution_count": 64,
   "metadata": {
    "_kg_hide-input": true,
    "_uuid": "7cfd9bdbbd27e27d9c5de7c6593527686445ea89"
   },
   "outputs": [],
   "source": [
    "# Source: Scikit Learn website\n",
    "# http://scikit-learn.org/stable/auto_examples/\n",
    "# model_selection/plot_confusion_matrix.html#sphx-glr-auto-examples-model-\n",
    "# selection-plot-confusion-matrix-py\n",
    "\n",
    "\n",
    "def plot_confusion_matrix(cm, classes,\n",
    "                          normalize=False,\n",
    "                          title='Confusion matrix',\n",
    "                          cmap=plt.cm.Blues):\n",
    "    \"\"\"\n",
    "    This function prints and plots the confusion matrix.\n",
    "    Normalization can be applied by setting `normalize=True`.\n",
    "    \"\"\"\n",
    "    if normalize:\n",
    "        cm = cm.astype('float') / cm.sum(axis=1)[:, np.newaxis]\n",
    "        print(\"Normalized confusion matrix\")\n",
    "    else:\n",
    "        print('Confusion matrix, without normalization')\n",
    "\n",
    "    print(cm)\n",
    "\n",
    "    plt.imshow(cm, interpolation='nearest', cmap=cmap)\n",
    "    plt.title(title)\n",
    "    plt.colorbar()\n",
    "    tick_marks = np.arange(len(classes))\n",
    "    plt.xticks(tick_marks, classes, rotation=45)\n",
    "    plt.yticks(tick_marks, classes)\n",
    "\n",
    "    fmt = '.2f' if normalize else 'd'\n",
    "    thresh = cm.max() / 2.\n",
    "    for i, j in itertools.product(range(cm.shape[0]), range(cm.shape[1])):\n",
    "        plt.text(j, i, format(cm[i, j], fmt),\n",
    "                 horizontalalignment=\"center\",\n",
    "                 color=\"white\" if cm[i, j] > thresh else \"black\")\n",
    "\n",
    "    plt.ylabel('True label')\n",
    "    plt.xlabel('Predicted label')\n",
    "    plt.figure(figsize=(100,100))\n",
    "    plt.tight_layout()\n",
    "\n",
    "\n"
   ]
  },
  {
   "cell_type": "code",
   "execution_count": 65,
   "metadata": {
    "_uuid": "940b71bb2b37d847ba81dd67ca50c7fd5785fd35"
   },
   "outputs": [],
   "source": [
    "# argmax returns the index of the max value in a row\n",
    "cm = confusion_matrix(y_true, y_pred)"
   ]
  },
  {
   "cell_type": "code",
   "execution_count": 66,
   "metadata": {
    "_uuid": "97c6b493c368ff6565782c1bb15827f5d349ef79"
   },
   "outputs": [
    {
     "data": {
      "text/plain": [
       "{'1_healthy': 0,\n",
       " '2_fvar': 1,\n",
       " '3_var': 2,\n",
       " '4_ant': 3,\n",
       " '5_robbed': 4,\n",
       " '6_queen': 5}"
      ]
     },
     "execution_count": 66,
     "metadata": {},
     "output_type": "execute_result"
    }
   ],
   "source": [
    "test_gen.class_indices"
   ]
  },
  {
   "cell_type": "code",
   "execution_count": 67,
   "metadata": {
    "_uuid": "0ddbd33a93468075c64ba49188a6d272a5c7828f"
   },
   "outputs": [
    {
     "name": "stdout",
     "output_type": "stream",
     "text": [
      "Confusion matrix, without normalization\n",
      "[[57  0  0  0  1  0]\n",
      " [ 0 50  6  1  1  0]\n",
      " [ 1  3 43  0  0  0]\n",
      " [ 0  0  0 46  0  0]\n",
      " [ 0  0  0  1 24  0]\n",
      " [ 0  0  0  0  0  3]]\n"
     ]
    },
    {
     "data": {
      "image/png": "[encoded data removed]",
      "text/plain": [
       "<Figure size 432x288 with 2 Axes>"
      ]
     },
     "metadata": {
      "needs_background": "light"
     },
     "output_type": "display_data"
    },
    {
     "data": {
      "text/plain": [
       "<Figure size 7200x7200 with 0 Axes>"
      ]
     },
     "metadata": {},
     "output_type": "display_data"
    }
   ],
   "source": [
    "# Key:\n",
    "# healthy = healthy\n",
    "# fvar = few varrao, hive beetles\n",
    "# var = Varroa, Small Hive Beetles\n",
    "# ant = ant problems\n",
    "# robbed = hive being robbed\n",
    "# queen = missing queen\n",
    "\n",
    "# Define the labels of the class indices. These need to match the \n",
    "# order shown above.\n",
    "cm_plot_labels = ['1_healthy', '2_fvar', '3_var', '4_ant', '5_robbed','6_queen']\n",
    "\n",
    "plot_confusion_matrix(cm, cm_plot_labels, title='Confusion Matrix')"
   ]
  },
  {
   "cell_type": "code",
   "execution_count": 68,
   "metadata": {
    "_uuid": "a478ccbc3ba97e21308448b2963b1b9b907e6295"
   },
   "outputs": [
    {
     "data": {
      "text/plain": [
       "237"
      ]
     },
     "execution_count": 68,
     "metadata": {},
     "output_type": "execute_result"
    }
   ],
   "source": [
    "len(df_val)"
   ]
  },
  {
   "cell_type": "markdown",
   "metadata": {
    "_uuid": "0fd36d09f28ec1db282736664b59858411c81bd6"
   },
   "source": [
    "### Generate the Classification Report"
   ]
  },
  {
   "cell_type": "code",
   "execution_count": 69,
   "metadata": {
    "_uuid": "324404b4febf12c31b8f0dd959e177ceae002e66"
   },
   "outputs": [],
   "source": [
    "# Get the filenames, labels and associated predictions\n",
    "\n",
    "# This outputs the sequence in which the generator processed the test images\n",
    "test_filenames = test_gen.filenames\n"
   ]
  },
  {
   "cell_type": "code",
   "execution_count": 70,
   "metadata": {
    "_uuid": "14a8978010ccb767006e63d6a5ca4e9026a292bb"
   },
   "outputs": [
    {
     "name": "stdout",
     "output_type": "stream",
     "text": [
      "                            precision    recall  f1-score   support\n",
      "\n",
      "                   healthy       0.98      0.98      0.98        58\n",
      "  few varrao, hive beetles       0.94      0.86      0.90        58\n",
      "Varroa, Small Hive Beetles       0.88      0.91      0.90        47\n",
      "              ant problems       0.96      1.00      0.98        46\n",
      "         hive being robbed       0.92      0.96      0.94        25\n",
      "             missing queen       1.00      1.00      1.00         3\n",
      "\n",
      "                  accuracy                           0.94       237\n",
      "                 macro avg       0.95      0.95      0.95       237\n",
      "              weighted avg       0.94      0.94      0.94       237\n",
      "\n"
     ]
    }
   ],
   "source": [
    "from sklearn.metrics import classification_report\n",
    "\n",
    "# Generate a classification report\n",
    "\n",
    "names = ['healthy', 'few varrao, hive beetles', 'Varroa, Small Hive Beetles', \n",
    "               'ant problems', 'hive being robbed','missing queen']\n",
    "\n",
    "report = classification_report(y_true, y_pred, target_names=names)\n",
    "\n",
    "print(report)"
   ]
  },
  {
   "cell_type": "markdown",
   "metadata": {
    "_uuid": "b462feaa2de3c325b9d9f484facfdb71e6828a78"
   },
   "source": [
    "**Recall ** = Given a class, will the classifier be able to detect it?<br>\n",
    "**Precision** = Given a class prediction from a classifier, how likely is it to be correct?<br>\n",
    "**F1 Score** = The harmonic mean of the recall and precision. Essentially, it punishes extreme values.\n"
   ]
  },
  {
   "cell_type": "markdown",
   "metadata": {
    "_uuid": "01795e9b2a4d45c450e71a549aab4c4a13928b44"
   },
   "source": [
    "The accuracy is above 90%. The F1 score is also above 90%. This tells us that our model is really good at detecting all classes, even the 'missing queen' class where only a 29  images are available.\n",
    "\n",
    "*As a side note - I'm wondering if the model is performing so well because it's looking at the bees or if it is actually looking at the background colour of the images. Maybe a more experienced data scientist can answer this question.*"
   ]
  },
  {
   "cell_type": "code",
   "execution_count": null,
   "metadata": {
    "_uuid": "4c46f3f1d257241f96b4aac7eb96831ff8bbea33"
   },
   "outputs": [],
   "source": [
    "# End of Model Building\n",
    "### ===================================================================================== ###\n",
    "# Convert the Model from Keras to Tensorflow.js"
   ]
  },
  {
   "cell_type": "markdown",
   "metadata": {
    "_uuid": "ed22201310ba3ca93178fbfb52b9ee07d9bdde39"
   },
   "source": [
    "### What is Tensorflow.js?"
   ]
  },
  {
   "cell_type": "markdown",
   "metadata": {
    "_uuid": "831ef2acf6cd7976c59498a994f4b0b26dcaea63"
   },
   "source": [
    "Tensorflow.js is a new library that allows machine learning models to run in the browser - without having to download or install any additional software. Because the model is running locally, any data that a user submits never leaves his or her pc or mobile phone. \n",
    "\n",
    "Every image that a user submits needs to be pre-processed before being passed to the model for prediction. MobileNet pre-prcessing involves scaling the pixel values between 1 and -1. In this kernel we used a built in function to pre-process images for MobileNet:<br>\n",
    "tensorflow.keras.applications.mobilenet.preprocess_input()\n",
    "\n",
    "When using Tensorflowjs in the app, this pre-processing needs to be implemented manually.\n"
   ]
  },
  {
   "cell_type": "markdown",
   "metadata": {
    "_uuid": "29880b4e0d1c540f667ac0e4adc9c3c866368753"
   },
   "source": [
    "*The code that follows could run in Kaggle kernels a few days ago, now it can't. <br>\n",
    "\"import tensorflowjs as tfjs\" gives an error.*\n",
    "\n",
    "*I've included the model conversion steps for reference - because I'm sure the error will be fixed at some point.*"
   ]
  },
  {
   "cell_type": "markdown",
   "metadata": {
    "_uuid": "7f9017d69bf0b84522e34841c1876b613cae1535"
   },
   "source": [
    "### Install Tensorflow.js"
   ]
  },
  {
   "cell_type": "code",
   "execution_count": 73,
   "metadata": {
    "_kg_hide-output": true,
    "_uuid": "2da93a52657b786a8eb7a0d5df6d6a2bcbd0f1c6"
   },
   "outputs": [
    {
     "name": "stdout",
     "output_type": "stream",
     "text": [
      "Requirement already satisfied: tensorflowjs in c:\\users\\user\\anaconda3\\lib\\site-packages (2.6.0)\n",
      "Requirement already satisfied: h5py<3,>=2.8.0 in c:\\users\\user\\anaconda3\\lib\\site-packages (from tensorflowjs) (2.9.0)\n",
      "Requirement already satisfied: tensorflow-hub<0.10,>=0.7.0 in c:\\users\\user\\anaconda3\\lib\\site-packages (from tensorflowjs) (0.9.0)\n",
      "Requirement already satisfied: tensorflow<3,>=2.1.0 in c:\\users\\user\\anaconda3\\lib\\site-packages (from tensorflowjs) (2.1.0)\n",
      "Requirement already satisfied: six<2,>=1.12.0 in c:\\users\\user\\anaconda3\\lib\\site-packages (from tensorflowjs) (1.12.0)\n",
      "Requirement already satisfied: numpy>=1.7 in c:\\users\\user\\anaconda3\\lib\\site-packages (from h5py<3,>=2.8.0->tensorflowjs) (1.16.5)\n",
      "Requirement already satisfied: protobuf>=3.8.0 in c:\\users\\user\\anaconda3\\lib\\site-packages (from tensorflow-hub<0.10,>=0.7.0->tensorflowjs) (3.11.4)\n",
      "Requirement already satisfied: absl-py>=0.7.0 in c:\\users\\user\\anaconda3\\lib\\site-packages (from tensorflow<3,>=2.1.0->tensorflowjs) (0.9.0)\n",
      "Requirement already satisfied: wheel>=0.26; python_version >= \"3\" in c:\\users\\user\\anaconda3\\lib\\site-packages (from tensorflow<3,>=2.1.0->tensorflowjs) (0.33.6)\n",
      "Requirement already satisfied: scipy==1.4.1; python_version >= \"3\" in c:\\users\\user\\anaconda3\\lib\\site-packages (from tensorflow<3,>=2.1.0->tensorflowjs) (1.4.1)\n",
      "Requirement already satisfied: tensorflow-estimator<2.2.0,>=2.1.0rc0 in c:\\users\\user\\anaconda3\\lib\\site-packages (from tensorflow<3,>=2.1.0->tensorflowjs) (2.1.0)\n",
      "Requirement already satisfied: gast==0.2.2 in c:\\users\\user\\anaconda3\\lib\\site-packages (from tensorflow<3,>=2.1.0->tensorflowjs) (0.2.2)\n",
      "Requirement already satisfied: tensorboard<2.2.0,>=2.1.0 in c:\\users\\user\\anaconda3\\lib\\site-packages (from tensorflow<3,>=2.1.0->tensorflowjs) (2.1.0)\n",
      "Requirement already satisfied: termcolor>=1.1.0 in c:\\users\\user\\anaconda3\\lib\\site-packages (from tensorflow<3,>=2.1.0->tensorflowjs) (1.1.0)\n",
      "Requirement already satisfied: wrapt>=1.11.1 in c:\\users\\user\\anaconda3\\lib\\site-packages (from tensorflow<3,>=2.1.0->tensorflowjs) (1.11.2)\n",
      "Requirement already satisfied: astor>=0.6.0 in c:\\users\\user\\anaconda3\\lib\\site-packages (from tensorflow<3,>=2.1.0->tensorflowjs) (0.8.0)\n",
      "Requirement already satisfied: google-pasta>=0.1.6 in c:\\users\\user\\anaconda3\\lib\\site-packages (from tensorflow<3,>=2.1.0->tensorflowjs) (0.2.0)\n",
      "Requirement already satisfied: grpcio>=1.8.6 in c:\\users\\user\\anaconda3\\lib\\site-packages (from tensorflow<3,>=2.1.0->tensorflowjs) (1.27.2)\n",
      "Requirement already satisfied: keras-applications>=1.0.8 in c:\\users\\user\\anaconda3\\lib\\site-packages (from tensorflow<3,>=2.1.0->tensorflowjs) (1.0.8)\n",
      "Requirement already satisfied: keras-preprocessing>=1.1.0 in c:\\users\\user\\anaconda3\\lib\\site-packages (from tensorflow<3,>=2.1.0->tensorflowjs) (1.1.0)\n",
      "Requirement already satisfied: opt-einsum>=2.3.2 in c:\\users\\user\\anaconda3\\lib\\site-packages (from tensorflow<3,>=2.1.0->tensorflowjs) (3.1.0)\n",
      "Requirement already satisfied: setuptools in c:\\users\\user\\anaconda3\\lib\\site-packages (from protobuf>=3.8.0->tensorflow-hub<0.10,>=0.7.0->tensorflowjs) (41.4.0)\n",
      "Requirement already satisfied: markdown>=2.6.8 in c:\\users\\user\\anaconda3\\lib\\site-packages (from tensorboard<2.2.0,>=2.1.0->tensorflow<3,>=2.1.0->tensorflowjs) (3.1.1)\n",
      "Requirement already satisfied: google-auth-oauthlib<0.5,>=0.4.1 in c:\\users\\user\\anaconda3\\lib\\site-packages (from tensorboard<2.2.0,>=2.1.0->tensorflow<3,>=2.1.0->tensorflowjs) (0.4.1)\n",
      "Requirement already satisfied: werkzeug>=0.11.15 in c:\\users\\user\\anaconda3\\lib\\site-packages (from tensorboard<2.2.0,>=2.1.0->tensorflow<3,>=2.1.0->tensorflowjs) (0.16.0)\n",
      "Requirement already satisfied: google-auth<2,>=1.6.3 in c:\\users\\user\\anaconda3\\lib\\site-packages (from tensorboard<2.2.0,>=2.1.0->tensorflow<3,>=2.1.0->tensorflowjs) (1.13.1)\n",
      "Requirement already satisfied: requests<3,>=2.21.0 in c:\\users\\user\\anaconda3\\lib\\site-packages (from tensorboard<2.2.0,>=2.1.0->tensorflow<3,>=2.1.0->tensorflowjs) (2.22.0)\n",
      "Requirement already satisfied: requests-oauthlib>=0.7.0 in c:\\users\\user\\anaconda3\\lib\\site-packages (from google-auth-oauthlib<0.5,>=0.4.1->tensorboard<2.2.0,>=2.1.0->tensorflow<3,>=2.1.0->tensorflowjs) (1.3.0)\n",
      "Requirement already satisfied: pyasn1-modules>=0.2.1 in c:\\users\\user\\anaconda3\\lib\\site-packages (from google-auth<2,>=1.6.3->tensorboard<2.2.0,>=2.1.0->tensorflow<3,>=2.1.0->tensorflowjs) (0.2.7)\n",
      "Requirement already satisfied: rsa<4.1,>=3.1.4 in c:\\users\\user\\anaconda3\\lib\\site-packages (from google-auth<2,>=1.6.3->tensorboard<2.2.0,>=2.1.0->tensorflow<3,>=2.1.0->tensorflowjs) (4.0)\n",
      "Requirement already satisfied: cachetools<5.0,>=2.0.0 in c:\\users\\user\\anaconda3\\lib\\site-packages (from google-auth<2,>=1.6.3->tensorboard<2.2.0,>=2.1.0->tensorflow<3,>=2.1.0->tensorflowjs) (3.1.1)\n",
      "Requirement already satisfied: idna<2.9,>=2.5 in c:\\users\\user\\anaconda3\\lib\\site-packages (from requests<3,>=2.21.0->tensorboard<2.2.0,>=2.1.0->tensorflow<3,>=2.1.0->tensorflowjs) (2.8)\n",
      "Requirement already satisfied: urllib3!=1.25.0,!=1.25.1,<1.26,>=1.21.1 in c:\\users\\user\\anaconda3\\lib\\site-packages (from requests<3,>=2.21.0->tensorboard<2.2.0,>=2.1.0->tensorflow<3,>=2.1.0->tensorflowjs) (1.24.2)\n",
      "Requirement already satisfied: certifi>=2017.4.17 in c:\\users\\user\\anaconda3\\lib\\site-packages (from requests<3,>=2.21.0->tensorboard<2.2.0,>=2.1.0->tensorflow<3,>=2.1.0->tensorflowjs) (2019.9.11)\n",
      "Requirement already satisfied: chardet<3.1.0,>=3.0.2 in c:\\users\\user\\anaconda3\\lib\\site-packages (from requests<3,>=2.21.0->tensorboard<2.2.0,>=2.1.0->tensorflow<3,>=2.1.0->tensorflowjs) (3.0.4)\n",
      "Requirement already satisfied: oauthlib>=3.0.0 in c:\\users\\user\\anaconda3\\lib\\site-packages (from requests-oauthlib>=0.7.0->google-auth-oauthlib<0.5,>=0.4.1->tensorboard<2.2.0,>=2.1.0->tensorflow<3,>=2.1.0->tensorflowjs) (3.1.0)\n",
      "Requirement already satisfied: pyasn1<0.5.0,>=0.4.6 in c:\\users\\user\\anaconda3\\lib\\site-packages (from pyasn1-modules>=0.2.1->google-auth<2,>=1.6.3->tensorboard<2.2.0,>=2.1.0->tensorflow<3,>=2.1.0->tensorflowjs) (0.4.8)\n",
      "Note: you may need to restart the kernel to use updated packages.\n"
     ]
    }
   ],
   "source": [
    "pip install tensorflowjs"
   ]
  },
  {
   "cell_type": "markdown",
   "metadata": {
    "_uuid": "a85d7889e2bada2ebe3b84fc1571a89b1a66b7b0"
   },
   "source": [
    "### Convert the model from Keras to Tensorflow.js"
   ]
  },
  {
   "cell_type": "code",
   "execution_count": 9,
   "metadata": {
    "_uuid": "9977179251a2feb129a946028fb74d30b9eb7341",
    "scrolled": true
   },
   "outputs": [
    {
     "ename": "NameError",
     "evalue": "name 'model' is not defined",
     "output_type": "error",
     "traceback": [
      "\u001b[1;31m---------------------------------------------------------------------------\u001b[0m",
      "\u001b[1;31mNameError\u001b[0m                                 Traceback (most recent call last)",
      "\u001b[1;32m<ipython-input-9-88d14eda3727>\u001b[0m in \u001b[0;36m<module>\u001b[1;34m\u001b[0m\n\u001b[0;32m      6\u001b[0m \u001b[1;32mimport\u001b[0m \u001b[0mtensorflowjs\u001b[0m \u001b[1;32mas\u001b[0m \u001b[0mtfjs\u001b[0m\u001b[1;33m\u001b[0m\u001b[1;33m\u001b[0m\u001b[0m\n\u001b[0;32m      7\u001b[0m \u001b[1;33m\u001b[0m\u001b[0m\n\u001b[1;32m----> 8\u001b[1;33m \u001b[0mtfjs\u001b[0m\u001b[1;33m.\u001b[0m\u001b[0mconverters\u001b[0m\u001b[1;33m.\u001b[0m\u001b[0msave_keras_model\u001b[0m\u001b[1;33m(\u001b[0m\u001b[0mmodel\u001b[0m\u001b[1;33m,\u001b[0m \u001b[1;34m'tfjs_dir'\u001b[0m\u001b[1;33m)\u001b[0m\u001b[1;33m\u001b[0m\u001b[1;33m\u001b[0m\u001b[0m\n\u001b[0m",
      "\u001b[1;31mNameError\u001b[0m: name 'model' is not defined"
     ]
    }
   ],
   "source": [
    "# create a directory to store the model files\n",
    "import os\n",
    "os.mkdir('tfjs_dir')\n",
    "\n",
    "# convert to Tensorflow.js\n",
    "import tensorflowjs as tfjs\n",
    "\n",
    "tfjs.converters.save_keras_model(model, 'tfjs_dir')"
   ]
  },
  {
   "cell_type": "code",
   "execution_count": 3,
   "metadata": {
    "_uuid": "7df391a2792ddfb7fa2a980776aeac744612f702"
   },
   "outputs": [
    {
     "ename": "NameError",
     "evalue": "name 'ls' is not defined",
     "output_type": "error",
     "traceback": [
      "\u001b[1;31m---------------------------------------------------------------------------\u001b[0m",
      "\u001b[1;31mNameError\u001b[0m                                 Traceback (most recent call last)",
      "\u001b[1;32m<ipython-input-3-888852815950>\u001b[0m in \u001b[0;36m<module>\u001b[1;34m\u001b[0m\n\u001b[0;32m      1\u001b[0m \u001b[1;31m# check the the directory containing the model is available\u001b[0m\u001b[1;33m\u001b[0m\u001b[1;33m\u001b[0m\u001b[1;33m\u001b[0m\u001b[0m\n\u001b[1;32m----> 2\u001b[1;33m \u001b[0mls\u001b[0m\u001b[1;33m\u001b[0m\u001b[1;33m\u001b[0m\u001b[0m\n\u001b[0m",
      "\u001b[1;31mNameError\u001b[0m: name 'ls' is not defined"
     ]
    }
   ],
   "source": [
    "# check the the directory containing the model is available\n",
    "ls"
   ]
  },
  {
   "cell_type": "code",
   "execution_count": 4,
   "metadata": {
    "_uuid": "71dd9a6a021d4ffcc159dafd52e7f86ecc6558cb"
   },
   "outputs": [
    {
     "data": {
      "text/plain": [
       "[]"
      ]
     },
     "execution_count": 4,
     "metadata": {},
     "output_type": "execute_result"
    }
   ],
   "source": [
    "# view the files that make up the tensorflow.js model\n",
    "os.listdir('tfjs_dir')"
   ]
  },
  {
   "cell_type": "markdown",
   "metadata": {
    "_uuid": "f9658677176b67f9ac35259d8d291cee175338e1"
   },
   "source": [
    "### Delete base_dir"
   ]
  },
  {
   "cell_type": "code",
   "execution_count": null,
   "metadata": {
    "_uuid": "f774cd15c6de188d4bb150f25ab600e5cbc06031"
   },
   "outputs": [],
   "source": [
    "# Delete the image data directory we created to prevent a Kaggle error.\n",
    "# Kaggle allows a max of 500 files to be saved.\n",
    "\n",
    "shutil.rmtree('base_dir')"
   ]
  },
  {
   "cell_type": "markdown",
   "metadata": {
    "_uuid": "4b6056bb27006ebc85fb54bbc8b9b989bd756ff1"
   },
   "source": [
    "### Resources\n",
    "\n",
    "These are some helpful resources:"
   ]
  },
  {
   "cell_type": "markdown",
   "metadata": {
    "_uuid": "d5f5d88e7cda18fb86c7e9715e488536e4424673"
   },
   "source": [
    "1. Excellent tutorial series by deeplizard on how to use Mobilenet with Tensorflow.js<br>\n",
    "https://www.youtube.com/watch?v=HEQDRWMK6yY\n",
    "\n",
    "2. Tutorial by Minsuk Heo on Accuracy, Precision and F1 Score<br>\n",
    "https://www.youtube.com/watch?v=HBi-P5j0Kec\n",
    "\n",
    "3. Tutorial by Data School on how to evaluate a classifier<br>\n",
    "https://www.youtube.com/watch?v=85dtiMz9tSo\n",
    "\n",
    "3. Tensorflow.js gallery of projects<br>\n",
    "https://github.com/tensorflow/tfjs/blob/master/GALLERY.md\n",
    "\n"
   ]
  },
  {
   "cell_type": "markdown",
   "metadata": {
    "_uuid": "55623033f552beec0101f2d8241c122404b1f82f"
   },
   "source": []
  },
  {
   "cell_type": "markdown",
   "metadata": {
    "_uuid": "ffb96375ce44ef009192bf6ddb44f6eb53a43838"
   },
   "source": [
    " "
   ]
  },
  {
   "cell_type": "code",
   "execution_count": null,
   "metadata": {
    "_uuid": "d3fd098aae4fdd509942e58cf61a3bb338f5d4ac"
   },
   "outputs": [],
   "source": []
  }
 ],
 "metadata": {
  "kernelspec": {
   "display_name": "Python 3",
   "language": "python",
   "name": "python3"
  },
  "language_info": {
   "codemirror_mode": {
    "name": "ipython",
    "version": 3
   },
   "file_extension": ".py",
   "mimetype": "text/x-python",
   "name": "python",
   "nbconvert_exporter": "python",
   "pygments_lexer": "ipython3",
   "version": "3.7.4"
  }
 },
 "nbformat": 4,
 "nbformat_minor": 1
}
